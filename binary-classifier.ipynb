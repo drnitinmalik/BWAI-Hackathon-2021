{
 "cells": [
  {
   "cell_type": "markdown",
   "metadata": {},
   "source": [
    "# BWAI Hackathon Nov 2021\n",
    "# Team Representative: Nitin Malik, Gurgaon, India\n",
    "# Team Members: Nayonika Chakraborty, Meghana Kota, Anand Mayangankar"
   ]
  },
  {
   "cell_type": "markdown",
   "metadata": {},
   "source": [
    "## Problem Statement:  Not everyone is interested in 9-5 job. Those who have entrepreneurship mindset would like to start up their own companies and be their own boss. But majority of them are skeptical to take first step as they are not confident of their competencies and skills."
   ]
  },
  {
   "cell_type": "markdown",
   "metadata": {},
   "source": [
    "## Existing Alternatives: Try to be an entrepreneur, if succeed it's good, otherwise do regular job"
   ]
  },
  {
   "cell_type": "markdown",
   "metadata": {},
   "source": [
    "## Proposed Solution: Using Machine Learning classifiers to predict the entrepreneurial competency in University students"
   ]
  },
  {
   "cell_type": "code",
   "execution_count": null,
   "metadata": {},
   "outputs": [],
   "source": [
    "## Key metrics: Accuracy since classes are largely balanced"
   ]
  },
  {
   "cell_type": "code",
   "execution_count": null,
   "metadata": {},
   "outputs": [],
   "source": [
    "## Target Customer: University students"
   ]
  },
  {
   "cell_type": "code",
   "execution_count": null,
   "metadata": {},
   "outputs": [],
   "source": [
    "## Customer Pain: Not able to decide whether they should pursue entrepreneurship"
   ]
  },
  {
   "cell_type": "code",
   "execution_count": null,
   "metadata": {},
   "outputs": [],
   "source": [
    "## Customer Gain: They will be able to take a call to pursue entrepreneurship or not if they opted for our solution"
   ]
  },
  {
   "cell_type": "code",
   "execution_count": null,
   "metadata": {},
   "outputs": [],
   "source": [
    "## Unique value Proposition: One-stop solution. Just need to fill the details about their competencies"
   ]
  },
  {
   "cell_type": "code",
   "execution_count": null,
   "metadata": {},
   "outputs": [],
   "source": [
    "## Revenue Model: Charging for the services and the detailed feedback offered to the customers"
   ]
  },
  {
   "cell_type": "code",
   "execution_count": null,
   "metadata": {},
   "outputs": [],
   "source": [
    "# Data collected from 198 Indian university students in 2019 by Utkarsh Sharma and Naman Manchanda. \n",
    "# Data Source: https://ieeexplore.ieee.org/abstract/document/9058292"
   ]
  },
  {
   "cell_type": "markdown",
   "metadata": {},
   "source": [
    "### Meta Data\n",
    "EducationSector - Engineering background or not\n",
    "IndividualProject - If the student builds personal project\n",
    "Age - Age of student\n",
    "Gender - Sex of student\n",
    "City - If the student stays in a city\n",
    "Influenced - If the student is influenced by someone\n",
    "Perseverance - Rating of a student based upon perseverance\n",
    "DesireToTakeInitiative - Rating of a student based upon desire to take initiative - Competitiveness\n",
    "Competitive rating - SelfRelianceSelf reliance rating\n",
    "SelfReliance - Self reliance rating\n",
    "StrongNeedToAchieve - Strong need to achieve a goal rating\n",
    "SelfConfidence - Self confidence rating\n",
    "GoodPhysicalHealth - Good physical health rating\n",
    "MentalDisorder - If there is any mental disorder\n",
    "KeyTraits - Key traits of the student\n",
    "ReasonsForLack - Reason for lack of entrepreneurship culture\n",
    "y - Whether the student seems to become a entrepreneur or not"
   ]
  },
  {
   "cell_type": "code",
   "execution_count": 58,
   "metadata": {},
   "outputs": [],
   "source": [
    "import pandas as pd\n",
    "import numpy as np\n",
    "import matplotlib.pyplot as plt\n",
    "import seaborn as sns\n",
    "%matplotlib inline"
   ]
  },
  {
   "cell_type": "code",
   "execution_count": 59,
   "metadata": {},
   "outputs": [
    {
     "data": {
      "text/html": [
       "<div>\n",
       "<style scoped>\n",
       "    .dataframe tbody tr th:only-of-type {\n",
       "        vertical-align: middle;\n",
       "    }\n",
       "\n",
       "    .dataframe tbody tr th {\n",
       "        vertical-align: top;\n",
       "    }\n",
       "\n",
       "    .dataframe thead th {\n",
       "        text-align: right;\n",
       "    }\n",
       "</style>\n",
       "<table border=\"1\" class=\"dataframe\">\n",
       "  <thead>\n",
       "    <tr style=\"text-align: right;\">\n",
       "      <th></th>\n",
       "      <th>EducationSector</th>\n",
       "      <th>IndividualProject</th>\n",
       "      <th>Age</th>\n",
       "      <th>Gender</th>\n",
       "      <th>City</th>\n",
       "      <th>Influenced</th>\n",
       "      <th>Perseverance</th>\n",
       "      <th>DesireToTakeInitiative</th>\n",
       "      <th>Competitiveness</th>\n",
       "      <th>SelfReliance</th>\n",
       "      <th>StrongNeedToAchieve</th>\n",
       "      <th>SelfConfidence</th>\n",
       "      <th>GoodPhysicalHealth</th>\n",
       "      <th>MentalDisorder</th>\n",
       "      <th>KeyTraits</th>\n",
       "      <th>ReasonsForLack</th>\n",
       "      <th>y</th>\n",
       "    </tr>\n",
       "  </thead>\n",
       "  <tbody>\n",
       "    <tr>\n",
       "      <th>0</th>\n",
       "      <td>Engineering Sciences</td>\n",
       "      <td>No</td>\n",
       "      <td>19</td>\n",
       "      <td>Male</td>\n",
       "      <td>Yes</td>\n",
       "      <td>No</td>\n",
       "      <td>2</td>\n",
       "      <td>2</td>\n",
       "      <td>3</td>\n",
       "      <td>3</td>\n",
       "      <td>2</td>\n",
       "      <td>2</td>\n",
       "      <td>3</td>\n",
       "      <td>Yes</td>\n",
       "      <td>Passion</td>\n",
       "      <td>NaN</td>\n",
       "      <td>1</td>\n",
       "    </tr>\n",
       "    <tr>\n",
       "      <th>1</th>\n",
       "      <td>Engineering Sciences</td>\n",
       "      <td>Yes</td>\n",
       "      <td>22</td>\n",
       "      <td>Male</td>\n",
       "      <td>No</td>\n",
       "      <td>Yes</td>\n",
       "      <td>3</td>\n",
       "      <td>3</td>\n",
       "      <td>3</td>\n",
       "      <td>4</td>\n",
       "      <td>4</td>\n",
       "      <td>3</td>\n",
       "      <td>4</td>\n",
       "      <td>Yes</td>\n",
       "      <td>Vision</td>\n",
       "      <td>Just not interested! (Want to work in the corp...</td>\n",
       "      <td>0</td>\n",
       "    </tr>\n",
       "    <tr>\n",
       "      <th>2</th>\n",
       "      <td>Engineering Sciences</td>\n",
       "      <td>No</td>\n",
       "      <td>18</td>\n",
       "      <td>Male</td>\n",
       "      <td>Yes</td>\n",
       "      <td>No</td>\n",
       "      <td>3</td>\n",
       "      <td>4</td>\n",
       "      <td>3</td>\n",
       "      <td>3</td>\n",
       "      <td>3</td>\n",
       "      <td>4</td>\n",
       "      <td>4</td>\n",
       "      <td>No</td>\n",
       "      <td>Passion</td>\n",
       "      <td>Not willing to start a venture in India and wa...</td>\n",
       "      <td>0</td>\n",
       "    </tr>\n",
       "    <tr>\n",
       "      <th>3</th>\n",
       "      <td>Engineering Sciences</td>\n",
       "      <td>Yes</td>\n",
       "      <td>20</td>\n",
       "      <td>Male</td>\n",
       "      <td>Yes</td>\n",
       "      <td>Yes</td>\n",
       "      <td>3</td>\n",
       "      <td>3</td>\n",
       "      <td>3</td>\n",
       "      <td>3</td>\n",
       "      <td>4</td>\n",
       "      <td>3</td>\n",
       "      <td>3</td>\n",
       "      <td>No</td>\n",
       "      <td>Resilience</td>\n",
       "      <td>Not able to take a Financial Risk</td>\n",
       "      <td>0</td>\n",
       "    </tr>\n",
       "    <tr>\n",
       "      <th>4</th>\n",
       "      <td>Engineering Sciences</td>\n",
       "      <td>Yes</td>\n",
       "      <td>19</td>\n",
       "      <td>Male</td>\n",
       "      <td>Yes</td>\n",
       "      <td>Yes</td>\n",
       "      <td>2</td>\n",
       "      <td>3</td>\n",
       "      <td>3</td>\n",
       "      <td>3</td>\n",
       "      <td>4</td>\n",
       "      <td>3</td>\n",
       "      <td>2</td>\n",
       "      <td>Yes</td>\n",
       "      <td>Vision</td>\n",
       "      <td>NaN</td>\n",
       "      <td>1</td>\n",
       "    </tr>\n",
       "  </tbody>\n",
       "</table>\n",
       "</div>"
      ],
      "text/plain": [
       "        EducationSector IndividualProject  Age Gender City Influenced  \\\n",
       "0  Engineering Sciences                No   19   Male  Yes         No   \n",
       "1  Engineering Sciences               Yes   22   Male   No        Yes   \n",
       "2  Engineering Sciences                No   18   Male  Yes         No   \n",
       "3  Engineering Sciences               Yes   20   Male  Yes        Yes   \n",
       "4  Engineering Sciences               Yes   19   Male  Yes        Yes   \n",
       "\n",
       "   Perseverance  DesireToTakeInitiative  Competitiveness  SelfReliance  \\\n",
       "0             2                       2                3             3   \n",
       "1             3                       3                3             4   \n",
       "2             3                       4                3             3   \n",
       "3             3                       3                3             3   \n",
       "4             2                       3                3             3   \n",
       "\n",
       "   StrongNeedToAchieve  SelfConfidence  GoodPhysicalHealth MentalDisorder  \\\n",
       "0                    2               2                   3            Yes   \n",
       "1                    4               3                   4            Yes   \n",
       "2                    3               4                   4             No   \n",
       "3                    4               3                   3             No   \n",
       "4                    4               3                   2            Yes   \n",
       "\n",
       "    KeyTraits                                     ReasonsForLack  y  \n",
       "0     Passion                                                NaN  1  \n",
       "1      Vision  Just not interested! (Want to work in the corp...  0  \n",
       "2     Passion  Not willing to start a venture in India and wa...  0  \n",
       "3  Resilience                  Not able to take a Financial Risk  0  \n",
       "4      Vision                                                NaN  1  "
      ]
     },
     "execution_count": 59,
     "metadata": {},
     "output_type": "execute_result"
    }
   ],
   "source": [
    "df=pd.read_csv('data.csv')\n",
    "df.head()"
   ]
  },
  {
   "cell_type": "markdown",
   "metadata": {},
   "source": [
    "## EDA"
   ]
  },
  {
   "cell_type": "code",
   "execution_count": 60,
   "metadata": {},
   "outputs": [
    {
     "data": {
      "text/plain": [
       "(219, 17)"
      ]
     },
     "execution_count": 60,
     "metadata": {},
     "output_type": "execute_result"
    }
   ],
   "source": [
    "df.shape"
   ]
  },
  {
   "cell_type": "code",
   "execution_count": 61,
   "metadata": {},
   "outputs": [
    {
     "name": "stdout",
     "output_type": "stream",
     "text": [
      "<class 'pandas.core.frame.DataFrame'>\n",
      "RangeIndex: 219 entries, 0 to 218\n",
      "Data columns (total 17 columns):\n",
      " #   Column                  Non-Null Count  Dtype \n",
      "---  ------                  --------------  ----- \n",
      " 0   EducationSector         219 non-null    object\n",
      " 1   IndividualProject       219 non-null    object\n",
      " 2   Age                     219 non-null    int64 \n",
      " 3   Gender                  219 non-null    object\n",
      " 4   City                    219 non-null    object\n",
      " 5   Influenced              219 non-null    object\n",
      " 6   Perseverance            219 non-null    int64 \n",
      " 7   DesireToTakeInitiative  219 non-null    int64 \n",
      " 8   Competitiveness         219 non-null    int64 \n",
      " 9   SelfReliance            219 non-null    int64 \n",
      " 10  StrongNeedToAchieve     219 non-null    int64 \n",
      " 11  SelfConfidence          219 non-null    int64 \n",
      " 12  GoodPhysicalHealth      219 non-null    int64 \n",
      " 13  MentalDisorder          219 non-null    object\n",
      " 14  KeyTraits               219 non-null    object\n",
      " 15  ReasonsForLack          128 non-null    object\n",
      " 16  y                       219 non-null    int64 \n",
      "dtypes: int64(9), object(8)\n",
      "memory usage: 29.2+ KB\n"
     ]
    }
   ],
   "source": [
    "df.info()"
   ]
  },
  {
   "cell_type": "code",
   "execution_count": 62,
   "metadata": {},
   "outputs": [
    {
     "data": {
      "image/png": "[encoded data removed]",
      "text/plain": [
       "<Figure size 720x720 with 1 Axes>"
      ]
     },
     "metadata": {
      "needs_background": "light"
     },
     "output_type": "display_data"
    }
   ],
   "source": [
    "# checking for outliers\n",
    "plt.figure(figsize=(10,10))\n",
    "df.boxplot(vert=0)\n",
    "plt.show()"
   ]
  },
  {
   "cell_type": "code",
   "execution_count": 63,
   "metadata": {},
   "outputs": [
    {
     "name": "stdout",
     "output_type": "stream",
     "text": [
      "EDUCATIONSECTOR :  9\n",
      "Language and Cultural Studies                              1\n",
      "Teaching Degree (e.g., B.Ed)                               3\n",
      "Mathematics or Natural Sciences                            4\n",
      "Humanities and Social Sciences                             5\n",
      "Medicine, Health Sciences                                 10\n",
      "Others                                                    20\n",
      "Art, Music or Design                                      21\n",
      "Economic Sciences, Business Studies, Commerce and Law     32\n",
      "Engineering Sciences                                     123\n",
      "Name: EducationSector, dtype: int64\n",
      "\n",
      "\n",
      "INDIVIDUALPROJECT :  2\n",
      "No      95\n",
      "Yes    124\n",
      "Name: IndividualProject, dtype: int64\n",
      "\n",
      "\n",
      "AGE :  10\n",
      "24     1\n",
      "25     1\n",
      "26     1\n",
      "23     2\n",
      "17     7\n",
      "22    12\n",
      "18    18\n",
      "21    28\n",
      "19    70\n",
      "20    79\n",
      "Name: Age, dtype: int64\n",
      "\n",
      "\n",
      "GENDER :  2\n",
      "Female     57\n",
      "Male      162\n",
      "Name: Gender, dtype: int64\n",
      "\n",
      "\n",
      "CITY :  2\n",
      "No      36\n",
      "Yes    183\n",
      "Name: City, dtype: int64\n",
      "\n",
      "\n",
      "INFLUENCED :  2\n",
      "No      61\n",
      "Yes    158\n",
      "Name: Influenced, dtype: int64\n",
      "\n",
      "\n",
      "PERSEVERANCE :  5\n",
      "1     6\n",
      "5    25\n",
      "2    40\n",
      "3    69\n",
      "4    79\n",
      "Name: Perseverance, dtype: int64\n",
      "\n",
      "\n",
      "DESIRETOTAKEINITIATIVE :  5\n",
      "1    12\n",
      "2    25\n",
      "3    55\n",
      "5    58\n",
      "4    69\n",
      "Name: DesireToTakeInitiative, dtype: int64\n",
      "\n",
      "\n",
      "COMPETITIVENESS :  5\n",
      "1     9\n",
      "2    26\n",
      "5    55\n",
      "4    63\n",
      "3    66\n",
      "Name: Competitiveness, dtype: int64\n",
      "\n",
      "\n",
      "SELFRELIANCE :  5\n",
      "1     6\n",
      "2    24\n",
      "3    52\n",
      "5    57\n",
      "4    80\n",
      "Name: SelfReliance, dtype: int64\n",
      "\n",
      "\n",
      "STRONGNEEDTOACHIEVE :  5\n",
      "1     2\n",
      "2    21\n",
      "3    50\n",
      "4    68\n",
      "5    78\n",
      "Name: StrongNeedToAchieve, dtype: int64\n",
      "\n",
      "\n",
      "SELFCONFIDENCE :  5\n",
      "1     9\n",
      "2    31\n",
      "5    52\n",
      "3    56\n",
      "4    71\n",
      "Name: SelfConfidence, dtype: int64\n",
      "\n",
      "\n",
      "GOODPHYSICALHEALTH :  5\n",
      "1     7\n",
      "2    32\n",
      "5    52\n",
      "3    63\n",
      "4    65\n",
      "Name: GoodPhysicalHealth, dtype: int64\n",
      "\n",
      "\n",
      "MENTALDISORDER :  2\n",
      "Yes     64\n",
      "No     155\n",
      "Name: MentalDisorder, dtype: int64\n",
      "\n",
      "\n",
      "KEYTRAITS :  5\n",
      "Resilience    10\n",
      "Vision        35\n",
      "Work Ethic    39\n",
      "Passion       62\n",
      "Positivity    73\n",
      "Name: KeyTraits, dtype: int64\n",
      "\n",
      "\n",
      "REASONSFORLACK :  44\n",
      "Academic Pressure, Unwillingness to take risk, Lack of Knowledge, Parental Pressure, Mental Block, Not able to take a Financial Risk, Not willing to start a venture in India and waiting for future relocation                                                                                                                              1\n",
      "Lack of Knowledge, Mental Block                                                                                                                                                                                                                                                                                                              1\n",
      "Lack of Knowledge, Mental Block, Not able to take a Financial Risk                                                                                                                                                                                                                                                                           1\n",
      "Just not interested! (Want to work in the corporate sector, or for the government or pursue research or something else), Academic Pressure, Parental Pressure                                                                                                                                                                                1\n",
      "Just not interested! (Want to work in the corporate sector, or for the government or pursue research or something else), Academic Pressure, Not able to take a Financial Risk                                                                                                                                                                1\n",
      "Academic Pressure, Lack of Knowledge                                                                                                                                                                                                                                                                                                         1\n",
      "Academic Pressure, Lack of Knowledge, Parental Pressure                                                                                                                                                                                                                                                                                      1\n",
      "Just not interested! (Want to work in the corporate sector, or for the government or pursue research or something else), Unwillingness to take risk                                                                                                                                                                                          1\n",
      "Academic Pressure, Unwillingness to take risk, Parental Pressure, Not able to take a Financial Risk                                                                                                                                                                                                                                          1\n",
      "Just not interested! (Want to work in the corporate sector, or for the government or pursue research or something else), Not willing to start a venture in India and waiting for future relocation                                                                                                                                           1\n",
      "Parental Pressure                                                                                                                                                                                                                                                                                                                            1\n",
      "Parental Pressure, Not able to take a Financial Risk, Not willing to start a venture in India and waiting for future relocation                                                                                                                                                                                                              1\n",
      "Just not interested! (Want to work in the corporate sector, or for the government or pursue research or something else), Academic Pressure, Unwillingness to take risk, Lack of Knowledge, Parental Pressure, Mental Block, Not able to take a Financial Risk, Not willing to start a venture in India and waiting for future relocation     1\n",
      "Just not interested! (Want to work in the corporate sector, or for the government or pursue research or something else), Unwillingness to take risk, Lack of Knowledge                                                                                                                                                                       1\n",
      "Mental Block                                                                                                                                                                                                                                                                                                                                 1\n",
      "Academic Pressure, Unwillingness to take risk, Not able to take a Financial Risk                                                                                                                                                                                                                                                             1\n",
      "Just not interested! (Want to work in the corporate sector, or for the government or pursue research or something else), Academic Pressure, Lack of Knowledge, Parental Pressure, Not able to take a Financial Risk                                                                                                                          1\n",
      "Just not interested! (Want to work in the corporate sector, or for the government or pursue research or something else), Lack of Knowledge, Not able to take a Financial Risk, Not willing to start a venture in India and waiting for future relocation                                                                                     1\n",
      "Academic Pressure, Lack of Knowledge, Not able to take a Financial Risk, Not willing to start a venture in India and waiting for future relocation                                                                                                                                                                                           1\n",
      "Just not interested! (Want to work in the corporate sector, or for the government or pursue research or something else), Academic Pressure, Unwillingness to take risk, Lack of Knowledge, Parental Pressure, Not able to take a Financial Risk                                                                                              1\n",
      "Lack of Knowledge, Not willing to start a venture in India and waiting for future relocation                                                                                                                                                                                                                                                 1\n",
      "Academic Pressure, Lack of Knowledge, Mental Block                                                                                                                                                                                                                                                                                           1\n",
      "Academic Pressure, Lack of Knowledge, Parental Pressure, Mental Block, Not able to take a Financial Risk                                                                                                                                                                                                                                     1\n",
      "Just not interested! (Want to work in the corporate sector, or for the government or pursue research or something else), Academic Pressure                                                                                                                                                                                                   1\n",
      "Just not interested! (Want to work in the corporate sector, or for the government or pursue research or something else), Academic Pressure, Lack of Knowledge                                                                                                                                                                                1\n",
      "Just not interested! (Want to work in the corporate sector, or for the government or pursue research or something else), Lack of Knowledge, Parental Pressure, Mental Block                                                                                                                                                                  1\n",
      "Not able to take a Financial Risk, Not willing to start a venture in India and waiting for future relocation                                                                                                                                                                                                                                 1\n",
      "Lack of Knowledge, Parental Pressure, Mental Block, Not able to take a Financial Risk                                                                                                                                                                                                                                                        1\n",
      "Unwillingness to take risk, Lack of Knowledge, Not able to take a Financial Risk                                                                                                                                                                                                                                                             1\n",
      "Academic Pressure, Not able to take a Financial Risk                                                                                                                                                                                                                                                                                         2\n",
      "Lack of Knowledge, Parental Pressure                                                                                                                                                                                                                                                                                                         2\n",
      "Just not interested! (Want to work in the corporate sector, or for the government or pursue research or something else), Not able to take a Financial Risk                                                                                                                                                                                   2\n",
      "Academic Pressure, Lack of Knowledge, Not able to take a Financial Risk                                                                                                                                                                                                                                                                      2\n",
      "Just not interested! (Want to work in the corporate sector, or for the government or pursue research or something else), Academic Pressure, Lack of Knowledge, Not able to take a Financial Risk                                                                                                                                             2\n",
      "Just not interested! (Want to work in the corporate sector, or for the government or pursue research or something else), Lack of Knowledge                                                                                                                                                                                                   2\n",
      "Lack of Knowledge, Not able to take a Financial Risk                                                                                                                                                                                                                                                                                         3\n",
      "Not able to take a Financial Risk                                                                                                                                                                                                                                                                                                            3\n",
      "Academic Pressure, Unwillingness to take risk, Lack of Knowledge                                                                                                                                                                                                                                                                             4\n",
      "Unwillingness to take risk                                                                                                                                                                                                                                                                                                                   4\n",
      "Just not interested! (Want to work in the corporate sector, or for the government or pursue research or something else), Lack of Knowledge, Not able to take a Financial Risk                                                                                                                                                                4\n",
      "Lack of Knowledge                                                                                                                                                                                                                                                                                                                            7\n",
      "Not willing to start a venture in India and waiting for future relocation                                                                                                                                                                                                                                                                   10\n",
      "Academic Pressure                                                                                                                                                                                                                                                                                                                           11\n",
      "Just not interested! (Want to work in the corporate sector, or for the government or pursue research or something else)                                                                                                                                                                                                                     41\n",
      "Name: ReasonsForLack, dtype: int64\n",
      "\n",
      "\n",
      "Y :  2\n",
      "1     91\n",
      "0    128\n",
      "Name: y, dtype: int64\n",
      "\n",
      "\n"
     ]
    }
   ],
   "source": [
    "# unique values for categorical variables\n",
    "for column in df.columns:\n",
    "    print(column.upper(),': ',df[column].nunique())\n",
    "    print(df[column].value_counts().sort_values())\n",
    "    print('\\n')"
   ]
  },
  {
   "cell_type": "markdown",
   "metadata": {},
   "source": [
    "## Data Preprocessing"
   ]
  },
  {
   "cell_type": "code",
   "execution_count": 67,
   "metadata": {},
   "outputs": [],
   "source": [
    "# fill the missing value in ReasonsForLack column as No Reason\n",
    "df['ReasonsForLack'] = df['ReasonsForLack'].fillna('No Reason')"
   ]
  },
  {
   "cell_type": "code",
   "execution_count": 68,
   "metadata": {},
   "outputs": [
    {
     "data": {
      "text/plain": [
       "0"
      ]
     },
     "execution_count": 68,
     "metadata": {},
     "output_type": "execute_result"
    }
   ],
   "source": [
    "df.isnull().sum().sum()"
   ]
  },
  {
   "cell_type": "code",
   "execution_count": 69,
   "metadata": {},
   "outputs": [],
   "source": [
    "df['ReasonsForLack'] = df['ReasonsForLack'].str.replace('Just not interested! (Want to work in the corporate sector, or for the government or pursue research or something else)',\n",
    "                                 'Just not interested, ',regex=False)"
   ]
  },
  {
   "cell_type": "code",
   "execution_count": 70,
   "metadata": {},
   "outputs": [
    {
     "data": {
      "text/plain": [
       "array(['No Reason', 'Just not interested',\n",
       "       'Not willing to start a venture in India and waiting for future relocation',\n",
       "       'Not able to take a Financial Risk', 'Academic Pressure',\n",
       "       'Lack of Knowledge', 'Unwillingness to take risk',\n",
       "       'Parental Pressure', 'Mental Block'], dtype=object)"
      ]
     },
     "execution_count": 70,
     "metadata": {},
     "output_type": "execute_result"
    }
   ],
   "source": [
    "df['ReasonsForLack'].str.split(', ', expand=True)[0].unique()"
   ]
  },
  {
   "cell_type": "code",
   "execution_count": 71,
   "metadata": {},
   "outputs": [],
   "source": [
    "df['No Reason'] = df['ReasonsForLack'].str.contains('No Reason')\n",
    "df['Just not interested'] = df['ReasonsForLack'].str.contains('Just not interested')\n",
    "df['Future relocation'] = df['ReasonsForLack'].str.contains('waiting for future relocation')\n",
    "df['Financial Risk'] = df['ReasonsForLack'].str.contains('Not able to take a Financial Risk')\n",
    "df['Academic Pressure'] = df['ReasonsForLack'].str.contains('Academic Pressure')\n",
    "df['Lack of Knowledge'] = df['ReasonsForLack'].str.contains('Lack of Knowledge')\n",
    "df['Unwillingness to take risk'] = df['ReasonsForLack'].str.contains('Unwillingness to take risk')\n",
    "df['Parental Pressure'] = df['ReasonsForLack'].str.contains('Parental Pressure')\n",
    "df['Mental Block'] = df['ReasonsForLack'].str.contains('Mental Block')\n",
    "# 9 cols with boolean values added"
   ]
  },
  {
   "cell_type": "code",
   "execution_count": 72,
   "metadata": {},
   "outputs": [],
   "source": [
    "df = df.drop('ReasonsForLack', axis=1)\n",
    "# 1 col dropped"
   ]
  },
  {
   "cell_type": "code",
   "execution_count": 73,
   "metadata": {},
   "outputs": [
    {
     "data": {
      "text/html": [
       "<div>\n",
       "<style scoped>\n",
       "    .dataframe tbody tr th:only-of-type {\n",
       "        vertical-align: middle;\n",
       "    }\n",
       "\n",
       "    .dataframe tbody tr th {\n",
       "        vertical-align: top;\n",
       "    }\n",
       "\n",
       "    .dataframe thead th {\n",
       "        text-align: right;\n",
       "    }\n",
       "</style>\n",
       "<table border=\"1\" class=\"dataframe\">\n",
       "  <thead>\n",
       "    <tr style=\"text-align: right;\">\n",
       "      <th></th>\n",
       "      <th>EducationSector</th>\n",
       "      <th>IndividualProject</th>\n",
       "      <th>Age</th>\n",
       "      <th>Gender</th>\n",
       "      <th>City</th>\n",
       "      <th>Influenced</th>\n",
       "      <th>Perseverance</th>\n",
       "      <th>DesireToTakeInitiative</th>\n",
       "      <th>Competitiveness</th>\n",
       "      <th>SelfReliance</th>\n",
       "      <th>...</th>\n",
       "      <th>y</th>\n",
       "      <th>No Reason</th>\n",
       "      <th>Just not interested</th>\n",
       "      <th>Future relocation</th>\n",
       "      <th>Financial Risk</th>\n",
       "      <th>Academic Pressure</th>\n",
       "      <th>Lack of Knowledge</th>\n",
       "      <th>Unwillingness to take risk</th>\n",
       "      <th>Parental Pressure</th>\n",
       "      <th>Mental Block</th>\n",
       "    </tr>\n",
       "  </thead>\n",
       "  <tbody>\n",
       "    <tr>\n",
       "      <th>0</th>\n",
       "      <td>Engineering Sciences</td>\n",
       "      <td>No</td>\n",
       "      <td>19</td>\n",
       "      <td>Male</td>\n",
       "      <td>Yes</td>\n",
       "      <td>No</td>\n",
       "      <td>2</td>\n",
       "      <td>2</td>\n",
       "      <td>3</td>\n",
       "      <td>3</td>\n",
       "      <td>...</td>\n",
       "      <td>1</td>\n",
       "      <td>True</td>\n",
       "      <td>False</td>\n",
       "      <td>False</td>\n",
       "      <td>False</td>\n",
       "      <td>False</td>\n",
       "      <td>False</td>\n",
       "      <td>False</td>\n",
       "      <td>False</td>\n",
       "      <td>False</td>\n",
       "    </tr>\n",
       "    <tr>\n",
       "      <th>1</th>\n",
       "      <td>Engineering Sciences</td>\n",
       "      <td>Yes</td>\n",
       "      <td>22</td>\n",
       "      <td>Male</td>\n",
       "      <td>No</td>\n",
       "      <td>Yes</td>\n",
       "      <td>3</td>\n",
       "      <td>3</td>\n",
       "      <td>3</td>\n",
       "      <td>4</td>\n",
       "      <td>...</td>\n",
       "      <td>0</td>\n",
       "      <td>False</td>\n",
       "      <td>True</td>\n",
       "      <td>False</td>\n",
       "      <td>False</td>\n",
       "      <td>False</td>\n",
       "      <td>False</td>\n",
       "      <td>False</td>\n",
       "      <td>False</td>\n",
       "      <td>False</td>\n",
       "    </tr>\n",
       "    <tr>\n",
       "      <th>2</th>\n",
       "      <td>Engineering Sciences</td>\n",
       "      <td>No</td>\n",
       "      <td>18</td>\n",
       "      <td>Male</td>\n",
       "      <td>Yes</td>\n",
       "      <td>No</td>\n",
       "      <td>3</td>\n",
       "      <td>4</td>\n",
       "      <td>3</td>\n",
       "      <td>3</td>\n",
       "      <td>...</td>\n",
       "      <td>0</td>\n",
       "      <td>False</td>\n",
       "      <td>False</td>\n",
       "      <td>True</td>\n",
       "      <td>False</td>\n",
       "      <td>False</td>\n",
       "      <td>False</td>\n",
       "      <td>False</td>\n",
       "      <td>False</td>\n",
       "      <td>False</td>\n",
       "    </tr>\n",
       "    <tr>\n",
       "      <th>3</th>\n",
       "      <td>Engineering Sciences</td>\n",
       "      <td>Yes</td>\n",
       "      <td>20</td>\n",
       "      <td>Male</td>\n",
       "      <td>Yes</td>\n",
       "      <td>Yes</td>\n",
       "      <td>3</td>\n",
       "      <td>3</td>\n",
       "      <td>3</td>\n",
       "      <td>3</td>\n",
       "      <td>...</td>\n",
       "      <td>0</td>\n",
       "      <td>False</td>\n",
       "      <td>False</td>\n",
       "      <td>False</td>\n",
       "      <td>True</td>\n",
       "      <td>False</td>\n",
       "      <td>False</td>\n",
       "      <td>False</td>\n",
       "      <td>False</td>\n",
       "      <td>False</td>\n",
       "    </tr>\n",
       "    <tr>\n",
       "      <th>4</th>\n",
       "      <td>Engineering Sciences</td>\n",
       "      <td>Yes</td>\n",
       "      <td>19</td>\n",
       "      <td>Male</td>\n",
       "      <td>Yes</td>\n",
       "      <td>Yes</td>\n",
       "      <td>2</td>\n",
       "      <td>3</td>\n",
       "      <td>3</td>\n",
       "      <td>3</td>\n",
       "      <td>...</td>\n",
       "      <td>1</td>\n",
       "      <td>True</td>\n",
       "      <td>False</td>\n",
       "      <td>False</td>\n",
       "      <td>False</td>\n",
       "      <td>False</td>\n",
       "      <td>False</td>\n",
       "      <td>False</td>\n",
       "      <td>False</td>\n",
       "      <td>False</td>\n",
       "    </tr>\n",
       "  </tbody>\n",
       "</table>\n",
       "<p>5 rows × 25 columns</p>\n",
       "</div>"
      ],
      "text/plain": [
       "        EducationSector IndividualProject  Age Gender City Influenced  \\\n",
       "0  Engineering Sciences                No   19   Male  Yes         No   \n",
       "1  Engineering Sciences               Yes   22   Male   No        Yes   \n",
       "2  Engineering Sciences                No   18   Male  Yes         No   \n",
       "3  Engineering Sciences               Yes   20   Male  Yes        Yes   \n",
       "4  Engineering Sciences               Yes   19   Male  Yes        Yes   \n",
       "\n",
       "   Perseverance  DesireToTakeInitiative  Competitiveness  SelfReliance  ...  \\\n",
       "0             2                       2                3             3  ...   \n",
       "1             3                       3                3             4  ...   \n",
       "2             3                       4                3             3  ...   \n",
       "3             3                       3                3             3  ...   \n",
       "4             2                       3                3             3  ...   \n",
       "\n",
       "   y  No Reason  Just not interested Future relocation Financial Risk  \\\n",
       "0  1       True                False             False          False   \n",
       "1  0      False                 True             False          False   \n",
       "2  0      False                False              True          False   \n",
       "3  0      False                False             False           True   \n",
       "4  1       True                False             False          False   \n",
       "\n",
       "   Academic Pressure  Lack of Knowledge  Unwillingness to take risk  \\\n",
       "0              False              False                       False   \n",
       "1              False              False                       False   \n",
       "2              False              False                       False   \n",
       "3              False              False                       False   \n",
       "4              False              False                       False   \n",
       "\n",
       "   Parental Pressure  Mental Block  \n",
       "0              False         False  \n",
       "1              False         False  \n",
       "2              False         False  \n",
       "3              False         False  \n",
       "4              False         False  \n",
       "\n",
       "[5 rows x 25 columns]"
      ]
     },
     "execution_count": 73,
     "metadata": {},
     "output_type": "execute_result"
    }
   ],
   "source": [
    "df.head()"
   ]
  },
  {
   "cell_type": "code",
   "execution_count": 29,
   "metadata": {},
   "outputs": [
    {
     "name": "stdout",
     "output_type": "stream",
     "text": [
      "<class 'pandas.core.frame.DataFrame'>\n",
      "RangeIndex: 219 entries, 0 to 218\n",
      "Data columns (total 25 columns):\n",
      " #   Column                      Non-Null Count  Dtype \n",
      "---  ------                      --------------  ----- \n",
      " 0   EducationSector             219 non-null    object\n",
      " 1   IndividualProject           219 non-null    object\n",
      " 2   Age                         219 non-null    int64 \n",
      " 3   Gender                      219 non-null    object\n",
      " 4   City                        219 non-null    object\n",
      " 5   Influenced                  219 non-null    object\n",
      " 6   Perseverance                219 non-null    int64 \n",
      " 7   DesireToTakeInitiative      219 non-null    int64 \n",
      " 8   Competitiveness             219 non-null    int64 \n",
      " 9   SelfReliance                219 non-null    int64 \n",
      " 10  StrongNeedToAchieve         219 non-null    int64 \n",
      " 11  SelfConfidence              219 non-null    int64 \n",
      " 12  GoodPhysicalHealth          219 non-null    int64 \n",
      " 13  MentalDisorder              219 non-null    object\n",
      " 14  KeyTraits                   219 non-null    object\n",
      " 15  y                           219 non-null    int64 \n",
      " 16  No Reason                   219 non-null    bool  \n",
      " 17  Just not interested         219 non-null    bool  \n",
      " 18  Future relocation           219 non-null    bool  \n",
      " 19  Financial Risk              219 non-null    bool  \n",
      " 20  Academic Pressure           219 non-null    bool  \n",
      " 21  Lack of Knowledge           219 non-null    bool  \n",
      " 22  Unwillingness to take risk  219 non-null    bool  \n",
      " 23  Parental Pressure           219 non-null    bool  \n",
      " 24  Mental Block                219 non-null    bool  \n",
      "dtypes: bool(9), int64(9), object(7)\n",
      "memory usage: 29.4+ KB\n"
     ]
    }
   ],
   "source": [
    "df.info()"
   ]
  },
  {
   "cell_type": "code",
   "execution_count": 30,
   "metadata": {},
   "outputs": [
    {
     "name": "stdout",
     "output_type": "stream",
     "text": [
      "Number of duplicate rows = 0\n"
     ]
    }
   ],
   "source": [
    "# checking for duplicate data\n",
    "dups = df.duplicated()\n",
    "print('Number of duplicate rows = %d' % (dups.sum()))"
   ]
  },
  {
   "cell_type": "code",
   "execution_count": 31,
   "metadata": {},
   "outputs": [
    {
     "data": {
      "text/html": [
       "<div>\n",
       "<style scoped>\n",
       "    .dataframe tbody tr th:only-of-type {\n",
       "        vertical-align: middle;\n",
       "    }\n",
       "\n",
       "    .dataframe tbody tr th {\n",
       "        vertical-align: top;\n",
       "    }\n",
       "\n",
       "    .dataframe thead th {\n",
       "        text-align: right;\n",
       "    }\n",
       "</style>\n",
       "<table border=\"1\" class=\"dataframe\">\n",
       "  <thead>\n",
       "    <tr style=\"text-align: right;\">\n",
       "      <th></th>\n",
       "      <th>Age</th>\n",
       "      <th>Perseverance</th>\n",
       "      <th>DesireToTakeInitiative</th>\n",
       "      <th>Competitiveness</th>\n",
       "      <th>SelfReliance</th>\n",
       "      <th>StrongNeedToAchieve</th>\n",
       "      <th>SelfConfidence</th>\n",
       "      <th>GoodPhysicalHealth</th>\n",
       "      <th>y</th>\n",
       "    </tr>\n",
       "  </thead>\n",
       "  <tbody>\n",
       "    <tr>\n",
       "      <th>count</th>\n",
       "      <td>219.000000</td>\n",
       "      <td>219.000000</td>\n",
       "      <td>219.000000</td>\n",
       "      <td>219.000000</td>\n",
       "      <td>219.000000</td>\n",
       "      <td>219.000000</td>\n",
       "      <td>219.000000</td>\n",
       "      <td>219.000000</td>\n",
       "      <td>219.000000</td>\n",
       "    </tr>\n",
       "    <tr>\n",
       "      <th>mean</th>\n",
       "      <td>19.753425</td>\n",
       "      <td>3.351598</td>\n",
       "      <td>3.621005</td>\n",
       "      <td>3.589041</td>\n",
       "      <td>3.721461</td>\n",
       "      <td>3.908676</td>\n",
       "      <td>3.575342</td>\n",
       "      <td>3.561644</td>\n",
       "      <td>0.415525</td>\n",
       "    </tr>\n",
       "    <tr>\n",
       "      <th>std</th>\n",
       "      <td>1.289842</td>\n",
       "      <td>0.995234</td>\n",
       "      <td>1.152467</td>\n",
       "      <td>1.110859</td>\n",
       "      <td>1.053629</td>\n",
       "      <td>1.023068</td>\n",
       "      <td>1.120098</td>\n",
       "      <td>1.100287</td>\n",
       "      <td>0.493941</td>\n",
       "    </tr>\n",
       "    <tr>\n",
       "      <th>min</th>\n",
       "      <td>17.000000</td>\n",
       "      <td>1.000000</td>\n",
       "      <td>1.000000</td>\n",
       "      <td>1.000000</td>\n",
       "      <td>1.000000</td>\n",
       "      <td>1.000000</td>\n",
       "      <td>1.000000</td>\n",
       "      <td>1.000000</td>\n",
       "      <td>0.000000</td>\n",
       "    </tr>\n",
       "    <tr>\n",
       "      <th>25%</th>\n",
       "      <td>19.000000</td>\n",
       "      <td>3.000000</td>\n",
       "      <td>3.000000</td>\n",
       "      <td>3.000000</td>\n",
       "      <td>3.000000</td>\n",
       "      <td>3.000000</td>\n",
       "      <td>3.000000</td>\n",
       "      <td>3.000000</td>\n",
       "      <td>0.000000</td>\n",
       "    </tr>\n",
       "    <tr>\n",
       "      <th>50%</th>\n",
       "      <td>20.000000</td>\n",
       "      <td>3.000000</td>\n",
       "      <td>4.000000</td>\n",
       "      <td>4.000000</td>\n",
       "      <td>4.000000</td>\n",
       "      <td>4.000000</td>\n",
       "      <td>4.000000</td>\n",
       "      <td>4.000000</td>\n",
       "      <td>0.000000</td>\n",
       "    </tr>\n",
       "    <tr>\n",
       "      <th>75%</th>\n",
       "      <td>20.000000</td>\n",
       "      <td>4.000000</td>\n",
       "      <td>5.000000</td>\n",
       "      <td>4.500000</td>\n",
       "      <td>5.000000</td>\n",
       "      <td>5.000000</td>\n",
       "      <td>4.000000</td>\n",
       "      <td>4.000000</td>\n",
       "      <td>1.000000</td>\n",
       "    </tr>\n",
       "    <tr>\n",
       "      <th>max</th>\n",
       "      <td>26.000000</td>\n",
       "      <td>5.000000</td>\n",
       "      <td>5.000000</td>\n",
       "      <td>5.000000</td>\n",
       "      <td>5.000000</td>\n",
       "      <td>5.000000</td>\n",
       "      <td>5.000000</td>\n",
       "      <td>5.000000</td>\n",
       "      <td>1.000000</td>\n",
       "    </tr>\n",
       "  </tbody>\n",
       "</table>\n",
       "</div>"
      ],
      "text/plain": [
       "              Age  Perseverance  DesireToTakeInitiative  Competitiveness  \\\n",
       "count  219.000000    219.000000              219.000000       219.000000   \n",
       "mean    19.753425      3.351598                3.621005         3.589041   \n",
       "std      1.289842      0.995234                1.152467         1.110859   \n",
       "min     17.000000      1.000000                1.000000         1.000000   \n",
       "25%     19.000000      3.000000                3.000000         3.000000   \n",
       "50%     20.000000      3.000000                4.000000         4.000000   \n",
       "75%     20.000000      4.000000                5.000000         4.500000   \n",
       "max     26.000000      5.000000                5.000000         5.000000   \n",
       "\n",
       "       SelfReliance  StrongNeedToAchieve  SelfConfidence  GoodPhysicalHealth  \\\n",
       "count    219.000000           219.000000      219.000000          219.000000   \n",
       "mean       3.721461             3.908676        3.575342            3.561644   \n",
       "std        1.053629             1.023068        1.120098            1.100287   \n",
       "min        1.000000             1.000000        1.000000            1.000000   \n",
       "25%        3.000000             3.000000        3.000000            3.000000   \n",
       "50%        4.000000             4.000000        4.000000            4.000000   \n",
       "75%        5.000000             5.000000        4.000000            4.000000   \n",
       "max        5.000000             5.000000        5.000000            5.000000   \n",
       "\n",
       "                y  \n",
       "count  219.000000  \n",
       "mean     0.415525  \n",
       "std      0.493941  \n",
       "min      0.000000  \n",
       "25%      0.000000  \n",
       "50%      0.000000  \n",
       "75%      1.000000  \n",
       "max      1.000000  "
      ]
     },
     "execution_count": 31,
     "metadata": {},
     "output_type": "execute_result"
    }
   ],
   "source": [
    "df.describe()"
   ]
  },
  {
   "cell_type": "code",
   "execution_count": 32,
   "metadata": {},
   "outputs": [
    {
     "data": {
      "text/html": [
       "<div>\n",
       "<style scoped>\n",
       "    .dataframe tbody tr th:only-of-type {\n",
       "        vertical-align: middle;\n",
       "    }\n",
       "\n",
       "    .dataframe tbody tr th {\n",
       "        vertical-align: top;\n",
       "    }\n",
       "\n",
       "    .dataframe thead th {\n",
       "        text-align: right;\n",
       "    }\n",
       "</style>\n",
       "<table border=\"1\" class=\"dataframe\">\n",
       "  <thead>\n",
       "    <tr style=\"text-align: right;\">\n",
       "      <th></th>\n",
       "      <th></th>\n",
       "      <th>IndividualProject</th>\n",
       "      <th>Age</th>\n",
       "      <th>City</th>\n",
       "      <th>Influenced</th>\n",
       "      <th>Perseverance</th>\n",
       "      <th>DesireToTakeInitiative</th>\n",
       "      <th>Competitiveness</th>\n",
       "      <th>SelfReliance</th>\n",
       "      <th>StrongNeedToAchieve</th>\n",
       "      <th>SelfConfidence</th>\n",
       "      <th>...</th>\n",
       "      <th>y</th>\n",
       "      <th>No Reason</th>\n",
       "      <th>Just not interested</th>\n",
       "      <th>Future relocation</th>\n",
       "      <th>Financial Risk</th>\n",
       "      <th>Academic Pressure</th>\n",
       "      <th>Lack of Knowledge</th>\n",
       "      <th>Unwillingness to take risk</th>\n",
       "      <th>Parental Pressure</th>\n",
       "      <th>Mental Block</th>\n",
       "    </tr>\n",
       "    <tr>\n",
       "      <th>EducationSector</th>\n",
       "      <th>Gender</th>\n",
       "      <th></th>\n",
       "      <th></th>\n",
       "      <th></th>\n",
       "      <th></th>\n",
       "      <th></th>\n",
       "      <th></th>\n",
       "      <th></th>\n",
       "      <th></th>\n",
       "      <th></th>\n",
       "      <th></th>\n",
       "      <th></th>\n",
       "      <th></th>\n",
       "      <th></th>\n",
       "      <th></th>\n",
       "      <th></th>\n",
       "      <th></th>\n",
       "      <th></th>\n",
       "      <th></th>\n",
       "      <th></th>\n",
       "      <th></th>\n",
       "      <th></th>\n",
       "    </tr>\n",
       "  </thead>\n",
       "  <tbody>\n",
       "    <tr>\n",
       "      <th rowspan=\"2\" valign=\"top\">Art, Music or Design</th>\n",
       "      <th>Female</th>\n",
       "      <td>8</td>\n",
       "      <td>8</td>\n",
       "      <td>8</td>\n",
       "      <td>8</td>\n",
       "      <td>8</td>\n",
       "      <td>8</td>\n",
       "      <td>8</td>\n",
       "      <td>8</td>\n",
       "      <td>8</td>\n",
       "      <td>8</td>\n",
       "      <td>...</td>\n",
       "      <td>8</td>\n",
       "      <td>8</td>\n",
       "      <td>8</td>\n",
       "      <td>8</td>\n",
       "      <td>8</td>\n",
       "      <td>8</td>\n",
       "      <td>8</td>\n",
       "      <td>8</td>\n",
       "      <td>8</td>\n",
       "      <td>8</td>\n",
       "    </tr>\n",
       "    <tr>\n",
       "      <th>Male</th>\n",
       "      <td>13</td>\n",
       "      <td>13</td>\n",
       "      <td>13</td>\n",
       "      <td>13</td>\n",
       "      <td>13</td>\n",
       "      <td>13</td>\n",
       "      <td>13</td>\n",
       "      <td>13</td>\n",
       "      <td>13</td>\n",
       "      <td>13</td>\n",
       "      <td>...</td>\n",
       "      <td>13</td>\n",
       "      <td>13</td>\n",
       "      <td>13</td>\n",
       "      <td>13</td>\n",
       "      <td>13</td>\n",
       "      <td>13</td>\n",
       "      <td>13</td>\n",
       "      <td>13</td>\n",
       "      <td>13</td>\n",
       "      <td>13</td>\n",
       "    </tr>\n",
       "    <tr>\n",
       "      <th rowspan=\"2\" valign=\"top\">Economic Sciences, Business Studies, Commerce and Law</th>\n",
       "      <th>Female</th>\n",
       "      <td>9</td>\n",
       "      <td>9</td>\n",
       "      <td>9</td>\n",
       "      <td>9</td>\n",
       "      <td>9</td>\n",
       "      <td>9</td>\n",
       "      <td>9</td>\n",
       "      <td>9</td>\n",
       "      <td>9</td>\n",
       "      <td>9</td>\n",
       "      <td>...</td>\n",
       "      <td>9</td>\n",
       "      <td>9</td>\n",
       "      <td>9</td>\n",
       "      <td>9</td>\n",
       "      <td>9</td>\n",
       "      <td>9</td>\n",
       "      <td>9</td>\n",
       "      <td>9</td>\n",
       "      <td>9</td>\n",
       "      <td>9</td>\n",
       "    </tr>\n",
       "    <tr>\n",
       "      <th>Male</th>\n",
       "      <td>23</td>\n",
       "      <td>23</td>\n",
       "      <td>23</td>\n",
       "      <td>23</td>\n",
       "      <td>23</td>\n",
       "      <td>23</td>\n",
       "      <td>23</td>\n",
       "      <td>23</td>\n",
       "      <td>23</td>\n",
       "      <td>23</td>\n",
       "      <td>...</td>\n",
       "      <td>23</td>\n",
       "      <td>23</td>\n",
       "      <td>23</td>\n",
       "      <td>23</td>\n",
       "      <td>23</td>\n",
       "      <td>23</td>\n",
       "      <td>23</td>\n",
       "      <td>23</td>\n",
       "      <td>23</td>\n",
       "      <td>23</td>\n",
       "    </tr>\n",
       "    <tr>\n",
       "      <th rowspan=\"2\" valign=\"top\">Engineering Sciences</th>\n",
       "      <th>Female</th>\n",
       "      <td>23</td>\n",
       "      <td>23</td>\n",
       "      <td>23</td>\n",
       "      <td>23</td>\n",
       "      <td>23</td>\n",
       "      <td>23</td>\n",
       "      <td>23</td>\n",
       "      <td>23</td>\n",
       "      <td>23</td>\n",
       "      <td>23</td>\n",
       "      <td>...</td>\n",
       "      <td>23</td>\n",
       "      <td>23</td>\n",
       "      <td>23</td>\n",
       "      <td>23</td>\n",
       "      <td>23</td>\n",
       "      <td>23</td>\n",
       "      <td>23</td>\n",
       "      <td>23</td>\n",
       "      <td>23</td>\n",
       "      <td>23</td>\n",
       "    </tr>\n",
       "    <tr>\n",
       "      <th>Male</th>\n",
       "      <td>100</td>\n",
       "      <td>100</td>\n",
       "      <td>100</td>\n",
       "      <td>100</td>\n",
       "      <td>100</td>\n",
       "      <td>100</td>\n",
       "      <td>100</td>\n",
       "      <td>100</td>\n",
       "      <td>100</td>\n",
       "      <td>100</td>\n",
       "      <td>...</td>\n",
       "      <td>100</td>\n",
       "      <td>100</td>\n",
       "      <td>100</td>\n",
       "      <td>100</td>\n",
       "      <td>100</td>\n",
       "      <td>100</td>\n",
       "      <td>100</td>\n",
       "      <td>100</td>\n",
       "      <td>100</td>\n",
       "      <td>100</td>\n",
       "    </tr>\n",
       "    <tr>\n",
       "      <th rowspan=\"2\" valign=\"top\">Humanities and Social Sciences</th>\n",
       "      <th>Female</th>\n",
       "      <td>2</td>\n",
       "      <td>2</td>\n",
       "      <td>2</td>\n",
       "      <td>2</td>\n",
       "      <td>2</td>\n",
       "      <td>2</td>\n",
       "      <td>2</td>\n",
       "      <td>2</td>\n",
       "      <td>2</td>\n",
       "      <td>2</td>\n",
       "      <td>...</td>\n",
       "      <td>2</td>\n",
       "      <td>2</td>\n",
       "      <td>2</td>\n",
       "      <td>2</td>\n",
       "      <td>2</td>\n",
       "      <td>2</td>\n",
       "      <td>2</td>\n",
       "      <td>2</td>\n",
       "      <td>2</td>\n",
       "      <td>2</td>\n",
       "    </tr>\n",
       "    <tr>\n",
       "      <th>Male</th>\n",
       "      <td>3</td>\n",
       "      <td>3</td>\n",
       "      <td>3</td>\n",
       "      <td>3</td>\n",
       "      <td>3</td>\n",
       "      <td>3</td>\n",
       "      <td>3</td>\n",
       "      <td>3</td>\n",
       "      <td>3</td>\n",
       "      <td>3</td>\n",
       "      <td>...</td>\n",
       "      <td>3</td>\n",
       "      <td>3</td>\n",
       "      <td>3</td>\n",
       "      <td>3</td>\n",
       "      <td>3</td>\n",
       "      <td>3</td>\n",
       "      <td>3</td>\n",
       "      <td>3</td>\n",
       "      <td>3</td>\n",
       "      <td>3</td>\n",
       "    </tr>\n",
       "    <tr>\n",
       "      <th>Language and Cultural Studies</th>\n",
       "      <th>Male</th>\n",
       "      <td>1</td>\n",
       "      <td>1</td>\n",
       "      <td>1</td>\n",
       "      <td>1</td>\n",
       "      <td>1</td>\n",
       "      <td>1</td>\n",
       "      <td>1</td>\n",
       "      <td>1</td>\n",
       "      <td>1</td>\n",
       "      <td>1</td>\n",
       "      <td>...</td>\n",
       "      <td>1</td>\n",
       "      <td>1</td>\n",
       "      <td>1</td>\n",
       "      <td>1</td>\n",
       "      <td>1</td>\n",
       "      <td>1</td>\n",
       "      <td>1</td>\n",
       "      <td>1</td>\n",
       "      <td>1</td>\n",
       "      <td>1</td>\n",
       "    </tr>\n",
       "    <tr>\n",
       "      <th rowspan=\"2\" valign=\"top\">Mathematics or Natural Sciences</th>\n",
       "      <th>Female</th>\n",
       "      <td>1</td>\n",
       "      <td>1</td>\n",
       "      <td>1</td>\n",
       "      <td>1</td>\n",
       "      <td>1</td>\n",
       "      <td>1</td>\n",
       "      <td>1</td>\n",
       "      <td>1</td>\n",
       "      <td>1</td>\n",
       "      <td>1</td>\n",
       "      <td>...</td>\n",
       "      <td>1</td>\n",
       "      <td>1</td>\n",
       "      <td>1</td>\n",
       "      <td>1</td>\n",
       "      <td>1</td>\n",
       "      <td>1</td>\n",
       "      <td>1</td>\n",
       "      <td>1</td>\n",
       "      <td>1</td>\n",
       "      <td>1</td>\n",
       "    </tr>\n",
       "    <tr>\n",
       "      <th>Male</th>\n",
       "      <td>3</td>\n",
       "      <td>3</td>\n",
       "      <td>3</td>\n",
       "      <td>3</td>\n",
       "      <td>3</td>\n",
       "      <td>3</td>\n",
       "      <td>3</td>\n",
       "      <td>3</td>\n",
       "      <td>3</td>\n",
       "      <td>3</td>\n",
       "      <td>...</td>\n",
       "      <td>3</td>\n",
       "      <td>3</td>\n",
       "      <td>3</td>\n",
       "      <td>3</td>\n",
       "      <td>3</td>\n",
       "      <td>3</td>\n",
       "      <td>3</td>\n",
       "      <td>3</td>\n",
       "      <td>3</td>\n",
       "      <td>3</td>\n",
       "    </tr>\n",
       "    <tr>\n",
       "      <th rowspan=\"2\" valign=\"top\">Medicine, Health Sciences</th>\n",
       "      <th>Female</th>\n",
       "      <td>5</td>\n",
       "      <td>5</td>\n",
       "      <td>5</td>\n",
       "      <td>5</td>\n",
       "      <td>5</td>\n",
       "      <td>5</td>\n",
       "      <td>5</td>\n",
       "      <td>5</td>\n",
       "      <td>5</td>\n",
       "      <td>5</td>\n",
       "      <td>...</td>\n",
       "      <td>5</td>\n",
       "      <td>5</td>\n",
       "      <td>5</td>\n",
       "      <td>5</td>\n",
       "      <td>5</td>\n",
       "      <td>5</td>\n",
       "      <td>5</td>\n",
       "      <td>5</td>\n",
       "      <td>5</td>\n",
       "      <td>5</td>\n",
       "    </tr>\n",
       "    <tr>\n",
       "      <th>Male</th>\n",
       "      <td>5</td>\n",
       "      <td>5</td>\n",
       "      <td>5</td>\n",
       "      <td>5</td>\n",
       "      <td>5</td>\n",
       "      <td>5</td>\n",
       "      <td>5</td>\n",
       "      <td>5</td>\n",
       "      <td>5</td>\n",
       "      <td>5</td>\n",
       "      <td>...</td>\n",
       "      <td>5</td>\n",
       "      <td>5</td>\n",
       "      <td>5</td>\n",
       "      <td>5</td>\n",
       "      <td>5</td>\n",
       "      <td>5</td>\n",
       "      <td>5</td>\n",
       "      <td>5</td>\n",
       "      <td>5</td>\n",
       "      <td>5</td>\n",
       "    </tr>\n",
       "    <tr>\n",
       "      <th rowspan=\"2\" valign=\"top\">Others</th>\n",
       "      <th>Female</th>\n",
       "      <td>9</td>\n",
       "      <td>9</td>\n",
       "      <td>9</td>\n",
       "      <td>9</td>\n",
       "      <td>9</td>\n",
       "      <td>9</td>\n",
       "      <td>9</td>\n",
       "      <td>9</td>\n",
       "      <td>9</td>\n",
       "      <td>9</td>\n",
       "      <td>...</td>\n",
       "      <td>9</td>\n",
       "      <td>9</td>\n",
       "      <td>9</td>\n",
       "      <td>9</td>\n",
       "      <td>9</td>\n",
       "      <td>9</td>\n",
       "      <td>9</td>\n",
       "      <td>9</td>\n",
       "      <td>9</td>\n",
       "      <td>9</td>\n",
       "    </tr>\n",
       "    <tr>\n",
       "      <th>Male</th>\n",
       "      <td>11</td>\n",
       "      <td>11</td>\n",
       "      <td>11</td>\n",
       "      <td>11</td>\n",
       "      <td>11</td>\n",
       "      <td>11</td>\n",
       "      <td>11</td>\n",
       "      <td>11</td>\n",
       "      <td>11</td>\n",
       "      <td>11</td>\n",
       "      <td>...</td>\n",
       "      <td>11</td>\n",
       "      <td>11</td>\n",
       "      <td>11</td>\n",
       "      <td>11</td>\n",
       "      <td>11</td>\n",
       "      <td>11</td>\n",
       "      <td>11</td>\n",
       "      <td>11</td>\n",
       "      <td>11</td>\n",
       "      <td>11</td>\n",
       "    </tr>\n",
       "    <tr>\n",
       "      <th>Teaching Degree (e.g., B.Ed)</th>\n",
       "      <th>Male</th>\n",
       "      <td>3</td>\n",
       "      <td>3</td>\n",
       "      <td>3</td>\n",
       "      <td>3</td>\n",
       "      <td>3</td>\n",
       "      <td>3</td>\n",
       "      <td>3</td>\n",
       "      <td>3</td>\n",
       "      <td>3</td>\n",
       "      <td>3</td>\n",
       "      <td>...</td>\n",
       "      <td>3</td>\n",
       "      <td>3</td>\n",
       "      <td>3</td>\n",
       "      <td>3</td>\n",
       "      <td>3</td>\n",
       "      <td>3</td>\n",
       "      <td>3</td>\n",
       "      <td>3</td>\n",
       "      <td>3</td>\n",
       "      <td>3</td>\n",
       "    </tr>\n",
       "  </tbody>\n",
       "</table>\n",
       "<p>16 rows × 23 columns</p>\n",
       "</div>"
      ],
      "text/plain": [
       "                                                           IndividualProject  \\\n",
       "EducationSector                                    Gender                      \n",
       "Art, Music or Design                               Female                  8   \n",
       "                                                   Male                   13   \n",
       "Economic Sciences, Business Studies, Commerce a... Female                  9   \n",
       "                                                   Male                   23   \n",
       "Engineering Sciences                               Female                 23   \n",
       "                                                   Male                  100   \n",
       "Humanities and Social Sciences                     Female                  2   \n",
       "                                                   Male                    3   \n",
       "Language and Cultural Studies                      Male                    1   \n",
       "Mathematics or Natural Sciences                    Female                  1   \n",
       "                                                   Male                    3   \n",
       "Medicine, Health Sciences                          Female                  5   \n",
       "                                                   Male                    5   \n",
       "Others                                             Female                  9   \n",
       "                                                   Male                   11   \n",
       "Teaching Degree (e.g., B.Ed)                       Male                    3   \n",
       "\n",
       "                                                           Age  City  \\\n",
       "EducationSector                                    Gender              \n",
       "Art, Music or Design                               Female    8     8   \n",
       "                                                   Male     13    13   \n",
       "Economic Sciences, Business Studies, Commerce a... Female    9     9   \n",
       "                                                   Male     23    23   \n",
       "Engineering Sciences                               Female   23    23   \n",
       "                                                   Male    100   100   \n",
       "Humanities and Social Sciences                     Female    2     2   \n",
       "                                                   Male      3     3   \n",
       "Language and Cultural Studies                      Male      1     1   \n",
       "Mathematics or Natural Sciences                    Female    1     1   \n",
       "                                                   Male      3     3   \n",
       "Medicine, Health Sciences                          Female    5     5   \n",
       "                                                   Male      5     5   \n",
       "Others                                             Female    9     9   \n",
       "                                                   Male     11    11   \n",
       "Teaching Degree (e.g., B.Ed)                       Male      3     3   \n",
       "\n",
       "                                                           Influenced  \\\n",
       "EducationSector                                    Gender               \n",
       "Art, Music or Design                               Female           8   \n",
       "                                                   Male            13   \n",
       "Economic Sciences, Business Studies, Commerce a... Female           9   \n",
       "                                                   Male            23   \n",
       "Engineering Sciences                               Female          23   \n",
       "                                                   Male           100   \n",
       "Humanities and Social Sciences                     Female           2   \n",
       "                                                   Male             3   \n",
       "Language and Cultural Studies                      Male             1   \n",
       "Mathematics or Natural Sciences                    Female           1   \n",
       "                                                   Male             3   \n",
       "Medicine, Health Sciences                          Female           5   \n",
       "                                                   Male             5   \n",
       "Others                                             Female           9   \n",
       "                                                   Male            11   \n",
       "Teaching Degree (e.g., B.Ed)                       Male             3   \n",
       "\n",
       "                                                           Perseverance  \\\n",
       "EducationSector                                    Gender                 \n",
       "Art, Music or Design                               Female             8   \n",
       "                                                   Male              13   \n",
       "Economic Sciences, Business Studies, Commerce a... Female             9   \n",
       "                                                   Male              23   \n",
       "Engineering Sciences                               Female            23   \n",
       "                                                   Male             100   \n",
       "Humanities and Social Sciences                     Female             2   \n",
       "                                                   Male               3   \n",
       "Language and Cultural Studies                      Male               1   \n",
       "Mathematics or Natural Sciences                    Female             1   \n",
       "                                                   Male               3   \n",
       "Medicine, Health Sciences                          Female             5   \n",
       "                                                   Male               5   \n",
       "Others                                             Female             9   \n",
       "                                                   Male              11   \n",
       "Teaching Degree (e.g., B.Ed)                       Male               3   \n",
       "\n",
       "                                                           DesireToTakeInitiative  \\\n",
       "EducationSector                                    Gender                           \n",
       "Art, Music or Design                               Female                       8   \n",
       "                                                   Male                        13   \n",
       "Economic Sciences, Business Studies, Commerce a... Female                       9   \n",
       "                                                   Male                        23   \n",
       "Engineering Sciences                               Female                      23   \n",
       "                                                   Male                       100   \n",
       "Humanities and Social Sciences                     Female                       2   \n",
       "                                                   Male                         3   \n",
       "Language and Cultural Studies                      Male                         1   \n",
       "Mathematics or Natural Sciences                    Female                       1   \n",
       "                                                   Male                         3   \n",
       "Medicine, Health Sciences                          Female                       5   \n",
       "                                                   Male                         5   \n",
       "Others                                             Female                       9   \n",
       "                                                   Male                        11   \n",
       "Teaching Degree (e.g., B.Ed)                       Male                         3   \n",
       "\n",
       "                                                           Competitiveness  \\\n",
       "EducationSector                                    Gender                    \n",
       "Art, Music or Design                               Female                8   \n",
       "                                                   Male                 13   \n",
       "Economic Sciences, Business Studies, Commerce a... Female                9   \n",
       "                                                   Male                 23   \n",
       "Engineering Sciences                               Female               23   \n",
       "                                                   Male                100   \n",
       "Humanities and Social Sciences                     Female                2   \n",
       "                                                   Male                  3   \n",
       "Language and Cultural Studies                      Male                  1   \n",
       "Mathematics or Natural Sciences                    Female                1   \n",
       "                                                   Male                  3   \n",
       "Medicine, Health Sciences                          Female                5   \n",
       "                                                   Male                  5   \n",
       "Others                                             Female                9   \n",
       "                                                   Male                 11   \n",
       "Teaching Degree (e.g., B.Ed)                       Male                  3   \n",
       "\n",
       "                                                           SelfReliance  \\\n",
       "EducationSector                                    Gender                 \n",
       "Art, Music or Design                               Female             8   \n",
       "                                                   Male              13   \n",
       "Economic Sciences, Business Studies, Commerce a... Female             9   \n",
       "                                                   Male              23   \n",
       "Engineering Sciences                               Female            23   \n",
       "                                                   Male             100   \n",
       "Humanities and Social Sciences                     Female             2   \n",
       "                                                   Male               3   \n",
       "Language and Cultural Studies                      Male               1   \n",
       "Mathematics or Natural Sciences                    Female             1   \n",
       "                                                   Male               3   \n",
       "Medicine, Health Sciences                          Female             5   \n",
       "                                                   Male               5   \n",
       "Others                                             Female             9   \n",
       "                                                   Male              11   \n",
       "Teaching Degree (e.g., B.Ed)                       Male               3   \n",
       "\n",
       "                                                           StrongNeedToAchieve  \\\n",
       "EducationSector                                    Gender                        \n",
       "Art, Music or Design                               Female                    8   \n",
       "                                                   Male                     13   \n",
       "Economic Sciences, Business Studies, Commerce a... Female                    9   \n",
       "                                                   Male                     23   \n",
       "Engineering Sciences                               Female                   23   \n",
       "                                                   Male                    100   \n",
       "Humanities and Social Sciences                     Female                    2   \n",
       "                                                   Male                      3   \n",
       "Language and Cultural Studies                      Male                      1   \n",
       "Mathematics or Natural Sciences                    Female                    1   \n",
       "                                                   Male                      3   \n",
       "Medicine, Health Sciences                          Female                    5   \n",
       "                                                   Male                      5   \n",
       "Others                                             Female                    9   \n",
       "                                                   Male                     11   \n",
       "Teaching Degree (e.g., B.Ed)                       Male                      3   \n",
       "\n",
       "                                                           SelfConfidence  \\\n",
       "EducationSector                                    Gender                   \n",
       "Art, Music or Design                               Female               8   \n",
       "                                                   Male                13   \n",
       "Economic Sciences, Business Studies, Commerce a... Female               9   \n",
       "                                                   Male                23   \n",
       "Engineering Sciences                               Female              23   \n",
       "                                                   Male               100   \n",
       "Humanities and Social Sciences                     Female               2   \n",
       "                                                   Male                 3   \n",
       "Language and Cultural Studies                      Male                 1   \n",
       "Mathematics or Natural Sciences                    Female               1   \n",
       "                                                   Male                 3   \n",
       "Medicine, Health Sciences                          Female               5   \n",
       "                                                   Male                 5   \n",
       "Others                                             Female               9   \n",
       "                                                   Male                11   \n",
       "Teaching Degree (e.g., B.Ed)                       Male                 3   \n",
       "\n",
       "                                                           ...    y  \\\n",
       "EducationSector                                    Gender  ...        \n",
       "Art, Music or Design                               Female  ...    8   \n",
       "                                                   Male    ...   13   \n",
       "Economic Sciences, Business Studies, Commerce a... Female  ...    9   \n",
       "                                                   Male    ...   23   \n",
       "Engineering Sciences                               Female  ...   23   \n",
       "                                                   Male    ...  100   \n",
       "Humanities and Social Sciences                     Female  ...    2   \n",
       "                                                   Male    ...    3   \n",
       "Language and Cultural Studies                      Male    ...    1   \n",
       "Mathematics or Natural Sciences                    Female  ...    1   \n",
       "                                                   Male    ...    3   \n",
       "Medicine, Health Sciences                          Female  ...    5   \n",
       "                                                   Male    ...    5   \n",
       "Others                                             Female  ...    9   \n",
       "                                                   Male    ...   11   \n",
       "Teaching Degree (e.g., B.Ed)                       Male    ...    3   \n",
       "\n",
       "                                                           No Reason  \\\n",
       "EducationSector                                    Gender              \n",
       "Art, Music or Design                               Female          8   \n",
       "                                                   Male           13   \n",
       "Economic Sciences, Business Studies, Commerce a... Female          9   \n",
       "                                                   Male           23   \n",
       "Engineering Sciences                               Female         23   \n",
       "                                                   Male          100   \n",
       "Humanities and Social Sciences                     Female          2   \n",
       "                                                   Male            3   \n",
       "Language and Cultural Studies                      Male            1   \n",
       "Mathematics or Natural Sciences                    Female          1   \n",
       "                                                   Male            3   \n",
       "Medicine, Health Sciences                          Female          5   \n",
       "                                                   Male            5   \n",
       "Others                                             Female          9   \n",
       "                                                   Male           11   \n",
       "Teaching Degree (e.g., B.Ed)                       Male            3   \n",
       "\n",
       "                                                           Just not interested  \\\n",
       "EducationSector                                    Gender                        \n",
       "Art, Music or Design                               Female                    8   \n",
       "                                                   Male                     13   \n",
       "Economic Sciences, Business Studies, Commerce a... Female                    9   \n",
       "                                                   Male                     23   \n",
       "Engineering Sciences                               Female                   23   \n",
       "                                                   Male                    100   \n",
       "Humanities and Social Sciences                     Female                    2   \n",
       "                                                   Male                      3   \n",
       "Language and Cultural Studies                      Male                      1   \n",
       "Mathematics or Natural Sciences                    Female                    1   \n",
       "                                                   Male                      3   \n",
       "Medicine, Health Sciences                          Female                    5   \n",
       "                                                   Male                      5   \n",
       "Others                                             Female                    9   \n",
       "                                                   Male                     11   \n",
       "Teaching Degree (e.g., B.Ed)                       Male                      3   \n",
       "\n",
       "                                                           Future relocation  \\\n",
       "EducationSector                                    Gender                      \n",
       "Art, Music or Design                               Female                  8   \n",
       "                                                   Male                   13   \n",
       "Economic Sciences, Business Studies, Commerce a... Female                  9   \n",
       "                                                   Male                   23   \n",
       "Engineering Sciences                               Female                 23   \n",
       "                                                   Male                  100   \n",
       "Humanities and Social Sciences                     Female                  2   \n",
       "                                                   Male                    3   \n",
       "Language and Cultural Studies                      Male                    1   \n",
       "Mathematics or Natural Sciences                    Female                  1   \n",
       "                                                   Male                    3   \n",
       "Medicine, Health Sciences                          Female                  5   \n",
       "                                                   Male                    5   \n",
       "Others                                             Female                  9   \n",
       "                                                   Male                   11   \n",
       "Teaching Degree (e.g., B.Ed)                       Male                    3   \n",
       "\n",
       "                                                           Financial Risk  \\\n",
       "EducationSector                                    Gender                   \n",
       "Art, Music or Design                               Female               8   \n",
       "                                                   Male                13   \n",
       "Economic Sciences, Business Studies, Commerce a... Female               9   \n",
       "                                                   Male                23   \n",
       "Engineering Sciences                               Female              23   \n",
       "                                                   Male               100   \n",
       "Humanities and Social Sciences                     Female               2   \n",
       "                                                   Male                 3   \n",
       "Language and Cultural Studies                      Male                 1   \n",
       "Mathematics or Natural Sciences                    Female               1   \n",
       "                                                   Male                 3   \n",
       "Medicine, Health Sciences                          Female               5   \n",
       "                                                   Male                 5   \n",
       "Others                                             Female               9   \n",
       "                                                   Male                11   \n",
       "Teaching Degree (e.g., B.Ed)                       Male                 3   \n",
       "\n",
       "                                                           Academic Pressure  \\\n",
       "EducationSector                                    Gender                      \n",
       "Art, Music or Design                               Female                  8   \n",
       "                                                   Male                   13   \n",
       "Economic Sciences, Business Studies, Commerce a... Female                  9   \n",
       "                                                   Male                   23   \n",
       "Engineering Sciences                               Female                 23   \n",
       "                                                   Male                  100   \n",
       "Humanities and Social Sciences                     Female                  2   \n",
       "                                                   Male                    3   \n",
       "Language and Cultural Studies                      Male                    1   \n",
       "Mathematics or Natural Sciences                    Female                  1   \n",
       "                                                   Male                    3   \n",
       "Medicine, Health Sciences                          Female                  5   \n",
       "                                                   Male                    5   \n",
       "Others                                             Female                  9   \n",
       "                                                   Male                   11   \n",
       "Teaching Degree (e.g., B.Ed)                       Male                    3   \n",
       "\n",
       "                                                           Lack of Knowledge  \\\n",
       "EducationSector                                    Gender                      \n",
       "Art, Music or Design                               Female                  8   \n",
       "                                                   Male                   13   \n",
       "Economic Sciences, Business Studies, Commerce a... Female                  9   \n",
       "                                                   Male                   23   \n",
       "Engineering Sciences                               Female                 23   \n",
       "                                                   Male                  100   \n",
       "Humanities and Social Sciences                     Female                  2   \n",
       "                                                   Male                    3   \n",
       "Language and Cultural Studies                      Male                    1   \n",
       "Mathematics or Natural Sciences                    Female                  1   \n",
       "                                                   Male                    3   \n",
       "Medicine, Health Sciences                          Female                  5   \n",
       "                                                   Male                    5   \n",
       "Others                                             Female                  9   \n",
       "                                                   Male                   11   \n",
       "Teaching Degree (e.g., B.Ed)                       Male                    3   \n",
       "\n",
       "                                                           Unwillingness to take risk  \\\n",
       "EducationSector                                    Gender                               \n",
       "Art, Music or Design                               Female                           8   \n",
       "                                                   Male                            13   \n",
       "Economic Sciences, Business Studies, Commerce a... Female                           9   \n",
       "                                                   Male                            23   \n",
       "Engineering Sciences                               Female                          23   \n",
       "                                                   Male                           100   \n",
       "Humanities and Social Sciences                     Female                           2   \n",
       "                                                   Male                             3   \n",
       "Language and Cultural Studies                      Male                             1   \n",
       "Mathematics or Natural Sciences                    Female                           1   \n",
       "                                                   Male                             3   \n",
       "Medicine, Health Sciences                          Female                           5   \n",
       "                                                   Male                             5   \n",
       "Others                                             Female                           9   \n",
       "                                                   Male                            11   \n",
       "Teaching Degree (e.g., B.Ed)                       Male                             3   \n",
       "\n",
       "                                                           Parental Pressure  \\\n",
       "EducationSector                                    Gender                      \n",
       "Art, Music or Design                               Female                  8   \n",
       "                                                   Male                   13   \n",
       "Economic Sciences, Business Studies, Commerce a... Female                  9   \n",
       "                                                   Male                   23   \n",
       "Engineering Sciences                               Female                 23   \n",
       "                                                   Male                  100   \n",
       "Humanities and Social Sciences                     Female                  2   \n",
       "                                                   Male                    3   \n",
       "Language and Cultural Studies                      Male                    1   \n",
       "Mathematics or Natural Sciences                    Female                  1   \n",
       "                                                   Male                    3   \n",
       "Medicine, Health Sciences                          Female                  5   \n",
       "                                                   Male                    5   \n",
       "Others                                             Female                  9   \n",
       "                                                   Male                   11   \n",
       "Teaching Degree (e.g., B.Ed)                       Male                    3   \n",
       "\n",
       "                                                           Mental Block  \n",
       "EducationSector                                    Gender                \n",
       "Art, Music or Design                               Female             8  \n",
       "                                                   Male              13  \n",
       "Economic Sciences, Business Studies, Commerce a... Female             9  \n",
       "                                                   Male              23  \n",
       "Engineering Sciences                               Female            23  \n",
       "                                                   Male             100  \n",
       "Humanities and Social Sciences                     Female             2  \n",
       "                                                   Male               3  \n",
       "Language and Cultural Studies                      Male               1  \n",
       "Mathematics or Natural Sciences                    Female             1  \n",
       "                                                   Male               3  \n",
       "Medicine, Health Sciences                          Female             5  \n",
       "                                                   Male               5  \n",
       "Others                                             Female             9  \n",
       "                                                   Male              11  \n",
       "Teaching Degree (e.g., B.Ed)                       Male               3  \n",
       "\n",
       "[16 rows x 23 columns]"
      ]
     },
     "execution_count": 32,
     "metadata": {},
     "output_type": "execute_result"
    }
   ],
   "source": [
    "# comparing males and females\n",
    "df.groupby([df.EducationSector,df.Gender]).count()"
   ]
  },
  {
   "cell_type": "code",
   "execution_count": 33,
   "metadata": {},
   "outputs": [
    {
     "data": {
      "text/plain": [
       "(219, 25)"
      ]
     },
     "execution_count": 33,
     "metadata": {},
     "output_type": "execute_result"
    }
   ],
   "source": [
    "df.shape"
   ]
  },
  {
   "cell_type": "code",
   "execution_count": 34,
   "metadata": {},
   "outputs": [
    {
     "data": {
      "text/plain": [
       "0    0.584475\n",
       "1    0.415525\n",
       "Name: y, dtype: float64"
      ]
     },
     "execution_count": 34,
     "metadata": {},
     "output_type": "execute_result"
    }
   ],
   "source": [
    "df['y'].value_counts(normalize=True)\n",
    "# classes are largely balanced, accuracy metric is sufficient"
   ]
  },
  {
   "cell_type": "markdown",
   "metadata": {},
   "source": [
    "## Segreggating X and y"
   ]
  },
  {
   "cell_type": "code",
   "execution_count": 35,
   "metadata": {},
   "outputs": [
    {
     "data": {
      "text/html": [
       "<div>\n",
       "<style scoped>\n",
       "    .dataframe tbody tr th:only-of-type {\n",
       "        vertical-align: middle;\n",
       "    }\n",
       "\n",
       "    .dataframe tbody tr th {\n",
       "        vertical-align: top;\n",
       "    }\n",
       "\n",
       "    .dataframe thead th {\n",
       "        text-align: right;\n",
       "    }\n",
       "</style>\n",
       "<table border=\"1\" class=\"dataframe\">\n",
       "  <thead>\n",
       "    <tr style=\"text-align: right;\">\n",
       "      <th></th>\n",
       "      <th>EducationSector</th>\n",
       "      <th>IndividualProject</th>\n",
       "      <th>Age</th>\n",
       "      <th>Gender</th>\n",
       "      <th>City</th>\n",
       "      <th>Influenced</th>\n",
       "      <th>Perseverance</th>\n",
       "      <th>DesireToTakeInitiative</th>\n",
       "      <th>Competitiveness</th>\n",
       "      <th>SelfReliance</th>\n",
       "      <th>...</th>\n",
       "      <th>KeyTraits</th>\n",
       "      <th>No Reason</th>\n",
       "      <th>Just not interested</th>\n",
       "      <th>Future relocation</th>\n",
       "      <th>Financial Risk</th>\n",
       "      <th>Academic Pressure</th>\n",
       "      <th>Lack of Knowledge</th>\n",
       "      <th>Unwillingness to take risk</th>\n",
       "      <th>Parental Pressure</th>\n",
       "      <th>Mental Block</th>\n",
       "    </tr>\n",
       "  </thead>\n",
       "  <tbody>\n",
       "    <tr>\n",
       "      <th>0</th>\n",
       "      <td>Engineering Sciences</td>\n",
       "      <td>No</td>\n",
       "      <td>19</td>\n",
       "      <td>Male</td>\n",
       "      <td>Yes</td>\n",
       "      <td>No</td>\n",
       "      <td>2</td>\n",
       "      <td>2</td>\n",
       "      <td>3</td>\n",
       "      <td>3</td>\n",
       "      <td>...</td>\n",
       "      <td>Passion</td>\n",
       "      <td>True</td>\n",
       "      <td>False</td>\n",
       "      <td>False</td>\n",
       "      <td>False</td>\n",
       "      <td>False</td>\n",
       "      <td>False</td>\n",
       "      <td>False</td>\n",
       "      <td>False</td>\n",
       "      <td>False</td>\n",
       "    </tr>\n",
       "    <tr>\n",
       "      <th>1</th>\n",
       "      <td>Engineering Sciences</td>\n",
       "      <td>Yes</td>\n",
       "      <td>22</td>\n",
       "      <td>Male</td>\n",
       "      <td>No</td>\n",
       "      <td>Yes</td>\n",
       "      <td>3</td>\n",
       "      <td>3</td>\n",
       "      <td>3</td>\n",
       "      <td>4</td>\n",
       "      <td>...</td>\n",
       "      <td>Vision</td>\n",
       "      <td>False</td>\n",
       "      <td>True</td>\n",
       "      <td>False</td>\n",
       "      <td>False</td>\n",
       "      <td>False</td>\n",
       "      <td>False</td>\n",
       "      <td>False</td>\n",
       "      <td>False</td>\n",
       "      <td>False</td>\n",
       "    </tr>\n",
       "    <tr>\n",
       "      <th>2</th>\n",
       "      <td>Engineering Sciences</td>\n",
       "      <td>No</td>\n",
       "      <td>18</td>\n",
       "      <td>Male</td>\n",
       "      <td>Yes</td>\n",
       "      <td>No</td>\n",
       "      <td>3</td>\n",
       "      <td>4</td>\n",
       "      <td>3</td>\n",
       "      <td>3</td>\n",
       "      <td>...</td>\n",
       "      <td>Passion</td>\n",
       "      <td>False</td>\n",
       "      <td>False</td>\n",
       "      <td>True</td>\n",
       "      <td>False</td>\n",
       "      <td>False</td>\n",
       "      <td>False</td>\n",
       "      <td>False</td>\n",
       "      <td>False</td>\n",
       "      <td>False</td>\n",
       "    </tr>\n",
       "    <tr>\n",
       "      <th>3</th>\n",
       "      <td>Engineering Sciences</td>\n",
       "      <td>Yes</td>\n",
       "      <td>20</td>\n",
       "      <td>Male</td>\n",
       "      <td>Yes</td>\n",
       "      <td>Yes</td>\n",
       "      <td>3</td>\n",
       "      <td>3</td>\n",
       "      <td>3</td>\n",
       "      <td>3</td>\n",
       "      <td>...</td>\n",
       "      <td>Resilience</td>\n",
       "      <td>False</td>\n",
       "      <td>False</td>\n",
       "      <td>False</td>\n",
       "      <td>True</td>\n",
       "      <td>False</td>\n",
       "      <td>False</td>\n",
       "      <td>False</td>\n",
       "      <td>False</td>\n",
       "      <td>False</td>\n",
       "    </tr>\n",
       "    <tr>\n",
       "      <th>4</th>\n",
       "      <td>Engineering Sciences</td>\n",
       "      <td>Yes</td>\n",
       "      <td>19</td>\n",
       "      <td>Male</td>\n",
       "      <td>Yes</td>\n",
       "      <td>Yes</td>\n",
       "      <td>2</td>\n",
       "      <td>3</td>\n",
       "      <td>3</td>\n",
       "      <td>3</td>\n",
       "      <td>...</td>\n",
       "      <td>Vision</td>\n",
       "      <td>True</td>\n",
       "      <td>False</td>\n",
       "      <td>False</td>\n",
       "      <td>False</td>\n",
       "      <td>False</td>\n",
       "      <td>False</td>\n",
       "      <td>False</td>\n",
       "      <td>False</td>\n",
       "      <td>False</td>\n",
       "    </tr>\n",
       "  </tbody>\n",
       "</table>\n",
       "<p>5 rows × 24 columns</p>\n",
       "</div>"
      ],
      "text/plain": [
       "        EducationSector IndividualProject  Age Gender City Influenced  \\\n",
       "0  Engineering Sciences                No   19   Male  Yes         No   \n",
       "1  Engineering Sciences               Yes   22   Male   No        Yes   \n",
       "2  Engineering Sciences                No   18   Male  Yes         No   \n",
       "3  Engineering Sciences               Yes   20   Male  Yes        Yes   \n",
       "4  Engineering Sciences               Yes   19   Male  Yes        Yes   \n",
       "\n",
       "   Perseverance  DesireToTakeInitiative  Competitiveness  SelfReliance  ...  \\\n",
       "0             2                       2                3             3  ...   \n",
       "1             3                       3                3             4  ...   \n",
       "2             3                       4                3             3  ...   \n",
       "3             3                       3                3             3  ...   \n",
       "4             2                       3                3             3  ...   \n",
       "\n",
       "    KeyTraits  No Reason  Just not interested Future relocation  \\\n",
       "0     Passion       True                False             False   \n",
       "1      Vision      False                 True             False   \n",
       "2     Passion      False                False              True   \n",
       "3  Resilience      False                False             False   \n",
       "4      Vision       True                False             False   \n",
       "\n",
       "  Financial Risk  Academic Pressure  Lack of Knowledge  \\\n",
       "0          False              False              False   \n",
       "1          False              False              False   \n",
       "2          False              False              False   \n",
       "3           True              False              False   \n",
       "4          False              False              False   \n",
       "\n",
       "   Unwillingness to take risk  Parental Pressure  Mental Block  \n",
       "0                       False              False         False  \n",
       "1                       False              False         False  \n",
       "2                       False              False         False  \n",
       "3                       False              False         False  \n",
       "4                       False              False         False  \n",
       "\n",
       "[5 rows x 24 columns]"
      ]
     },
     "execution_count": 35,
     "metadata": {},
     "output_type": "execute_result"
    }
   ],
   "source": [
    "X = df.drop('y', axis=1)\n",
    "y = df['y']\n",
    "X.head()"
   ]
  },
  {
   "cell_type": "markdown",
   "metadata": {},
   "source": [
    "## Encoding categorical data"
   ]
  },
  {
   "cell_type": "code",
   "execution_count": 36,
   "metadata": {},
   "outputs": [],
   "source": [
    "# categorical data is nominal, so converting categorical to numerical using One Hot Encoding\n",
    "X = pd.get_dummies(X)\n",
    "# 25 cols increased to 41"
   ]
  },
  {
   "cell_type": "code",
   "execution_count": 37,
   "metadata": {},
   "outputs": [
    {
     "data": {
      "text/html": [
       "<div>\n",
       "<style scoped>\n",
       "    .dataframe tbody tr th:only-of-type {\n",
       "        vertical-align: middle;\n",
       "    }\n",
       "\n",
       "    .dataframe tbody tr th {\n",
       "        vertical-align: top;\n",
       "    }\n",
       "\n",
       "    .dataframe thead th {\n",
       "        text-align: right;\n",
       "    }\n",
       "</style>\n",
       "<table border=\"1\" class=\"dataframe\">\n",
       "  <thead>\n",
       "    <tr style=\"text-align: right;\">\n",
       "      <th></th>\n",
       "      <th>Age</th>\n",
       "      <th>Perseverance</th>\n",
       "      <th>DesireToTakeInitiative</th>\n",
       "      <th>Competitiveness</th>\n",
       "      <th>SelfReliance</th>\n",
       "      <th>StrongNeedToAchieve</th>\n",
       "      <th>SelfConfidence</th>\n",
       "      <th>GoodPhysicalHealth</th>\n",
       "      <th>No Reason</th>\n",
       "      <th>Just not interested</th>\n",
       "      <th>...</th>\n",
       "      <th>City_Yes</th>\n",
       "      <th>Influenced_No</th>\n",
       "      <th>Influenced_Yes</th>\n",
       "      <th>MentalDisorder_No</th>\n",
       "      <th>MentalDisorder_Yes</th>\n",
       "      <th>KeyTraits_Passion</th>\n",
       "      <th>KeyTraits_Positivity</th>\n",
       "      <th>KeyTraits_Resilience</th>\n",
       "      <th>KeyTraits_Vision</th>\n",
       "      <th>KeyTraits_Work Ethic</th>\n",
       "    </tr>\n",
       "  </thead>\n",
       "  <tbody>\n",
       "    <tr>\n",
       "      <th>0</th>\n",
       "      <td>19</td>\n",
       "      <td>2</td>\n",
       "      <td>2</td>\n",
       "      <td>3</td>\n",
       "      <td>3</td>\n",
       "      <td>2</td>\n",
       "      <td>2</td>\n",
       "      <td>3</td>\n",
       "      <td>True</td>\n",
       "      <td>False</td>\n",
       "      <td>...</td>\n",
       "      <td>1</td>\n",
       "      <td>1</td>\n",
       "      <td>0</td>\n",
       "      <td>0</td>\n",
       "      <td>1</td>\n",
       "      <td>1</td>\n",
       "      <td>0</td>\n",
       "      <td>0</td>\n",
       "      <td>0</td>\n",
       "      <td>0</td>\n",
       "    </tr>\n",
       "    <tr>\n",
       "      <th>1</th>\n",
       "      <td>22</td>\n",
       "      <td>3</td>\n",
       "      <td>3</td>\n",
       "      <td>3</td>\n",
       "      <td>4</td>\n",
       "      <td>4</td>\n",
       "      <td>3</td>\n",
       "      <td>4</td>\n",
       "      <td>False</td>\n",
       "      <td>True</td>\n",
       "      <td>...</td>\n",
       "      <td>0</td>\n",
       "      <td>0</td>\n",
       "      <td>1</td>\n",
       "      <td>0</td>\n",
       "      <td>1</td>\n",
       "      <td>0</td>\n",
       "      <td>0</td>\n",
       "      <td>0</td>\n",
       "      <td>1</td>\n",
       "      <td>0</td>\n",
       "    </tr>\n",
       "    <tr>\n",
       "      <th>2</th>\n",
       "      <td>18</td>\n",
       "      <td>3</td>\n",
       "      <td>4</td>\n",
       "      <td>3</td>\n",
       "      <td>3</td>\n",
       "      <td>3</td>\n",
       "      <td>4</td>\n",
       "      <td>4</td>\n",
       "      <td>False</td>\n",
       "      <td>False</td>\n",
       "      <td>...</td>\n",
       "      <td>1</td>\n",
       "      <td>1</td>\n",
       "      <td>0</td>\n",
       "      <td>1</td>\n",
       "      <td>0</td>\n",
       "      <td>1</td>\n",
       "      <td>0</td>\n",
       "      <td>0</td>\n",
       "      <td>0</td>\n",
       "      <td>0</td>\n",
       "    </tr>\n",
       "    <tr>\n",
       "      <th>3</th>\n",
       "      <td>20</td>\n",
       "      <td>3</td>\n",
       "      <td>3</td>\n",
       "      <td>3</td>\n",
       "      <td>3</td>\n",
       "      <td>4</td>\n",
       "      <td>3</td>\n",
       "      <td>3</td>\n",
       "      <td>False</td>\n",
       "      <td>False</td>\n",
       "      <td>...</td>\n",
       "      <td>1</td>\n",
       "      <td>0</td>\n",
       "      <td>1</td>\n",
       "      <td>1</td>\n",
       "      <td>0</td>\n",
       "      <td>0</td>\n",
       "      <td>0</td>\n",
       "      <td>1</td>\n",
       "      <td>0</td>\n",
       "      <td>0</td>\n",
       "    </tr>\n",
       "    <tr>\n",
       "      <th>4</th>\n",
       "      <td>19</td>\n",
       "      <td>2</td>\n",
       "      <td>3</td>\n",
       "      <td>3</td>\n",
       "      <td>3</td>\n",
       "      <td>4</td>\n",
       "      <td>3</td>\n",
       "      <td>2</td>\n",
       "      <td>True</td>\n",
       "      <td>False</td>\n",
       "      <td>...</td>\n",
       "      <td>1</td>\n",
       "      <td>0</td>\n",
       "      <td>1</td>\n",
       "      <td>0</td>\n",
       "      <td>1</td>\n",
       "      <td>0</td>\n",
       "      <td>0</td>\n",
       "      <td>0</td>\n",
       "      <td>1</td>\n",
       "      <td>0</td>\n",
       "    </tr>\n",
       "  </tbody>\n",
       "</table>\n",
       "<p>5 rows × 41 columns</p>\n",
       "</div>"
      ],
      "text/plain": [
       "   Age  Perseverance  DesireToTakeInitiative  Competitiveness  SelfReliance  \\\n",
       "0   19             2                       2                3             3   \n",
       "1   22             3                       3                3             4   \n",
       "2   18             3                       4                3             3   \n",
       "3   20             3                       3                3             3   \n",
       "4   19             2                       3                3             3   \n",
       "\n",
       "   StrongNeedToAchieve  SelfConfidence  GoodPhysicalHealth  No Reason  \\\n",
       "0                    2               2                   3       True   \n",
       "1                    4               3                   4      False   \n",
       "2                    3               4                   4      False   \n",
       "3                    4               3                   3      False   \n",
       "4                    4               3                   2       True   \n",
       "\n",
       "   Just not interested  ...  City_Yes  Influenced_No  Influenced_Yes  \\\n",
       "0                False  ...         1              1               0   \n",
       "1                 True  ...         0              0               1   \n",
       "2                False  ...         1              1               0   \n",
       "3                False  ...         1              0               1   \n",
       "4                False  ...         1              0               1   \n",
       "\n",
       "   MentalDisorder_No  MentalDisorder_Yes  KeyTraits_Passion  \\\n",
       "0                  0                   1                  1   \n",
       "1                  0                   1                  0   \n",
       "2                  1                   0                  1   \n",
       "3                  1                   0                  0   \n",
       "4                  0                   1                  0   \n",
       "\n",
       "   KeyTraits_Positivity  KeyTraits_Resilience  KeyTraits_Vision  \\\n",
       "0                     0                     0                 0   \n",
       "1                     0                     0                 1   \n",
       "2                     0                     0                 0   \n",
       "3                     0                     1                 0   \n",
       "4                     0                     0                 1   \n",
       "\n",
       "   KeyTraits_Work Ethic  \n",
       "0                     0  \n",
       "1                     0  \n",
       "2                     0  \n",
       "3                     0  \n",
       "4                     0  \n",
       "\n",
       "[5 rows x 41 columns]"
      ]
     },
     "execution_count": 37,
     "metadata": {},
     "output_type": "execute_result"
    }
   ],
   "source": [
    "X.head()"
   ]
  },
  {
   "cell_type": "markdown",
   "metadata": {},
   "source": [
    "## Train Test Split"
   ]
  },
  {
   "cell_type": "code",
   "execution_count": 38,
   "metadata": {},
   "outputs": [],
   "source": [
    "from sklearn.model_selection import train_test_split, cross_val_score as cvs\n",
    "X_train, X_test, y_train, y_test = train_test_split(X, y, test_size=0.30, stratify=y, random_state=101)"
   ]
  },
  {
   "cell_type": "code",
   "execution_count": 13,
   "metadata": {},
   "outputs": [
    {
     "data": {
      "text/plain": [
       "(66, 41)"
      ]
     },
     "execution_count": 13,
     "metadata": {},
     "output_type": "execute_result"
    }
   ],
   "source": [
    "X_train.shape\n",
    "X_test.shape"
   ]
  },
  {
   "cell_type": "markdown",
   "metadata": {},
   "source": [
    "## Satandardisation"
   ]
  },
  {
   "cell_type": "code",
   "execution_count": 39,
   "metadata": {},
   "outputs": [],
   "source": [
    "from sklearn.preprocessing import StandardScaler\n",
    "sc = StandardScaler()\n",
    "X_train = sc.fit_transform(X_train)\n",
    "X_test = sc.transform(X_test)"
   ]
  },
  {
   "cell_type": "markdown",
   "metadata": {},
   "source": [
    "## Model 1: SVC"
   ]
  },
  {
   "cell_type": "code",
   "execution_count": 33,
   "metadata": {},
   "outputs": [],
   "source": [
    "from sklearn.svm import SVC"
   ]
  },
  {
   "cell_type": "code",
   "execution_count": 34,
   "metadata": {},
   "outputs": [],
   "source": [
    "model = SVC(kernel = 'sigmoid') # kernel=‘linear’, ‘poly’, ‘rbf’, ‘sigmoid’, ‘precomputed’ # default=’rbf’"
   ]
  },
  {
   "cell_type": "code",
   "execution_count": 35,
   "metadata": {},
   "outputs": [
    {
     "data": {
      "text/plain": [
       "SVC(kernel='sigmoid')"
      ]
     },
     "execution_count": 35,
     "metadata": {},
     "output_type": "execute_result"
    }
   ],
   "source": [
    "model.fit(X_train,y_train)"
   ]
  },
  {
   "cell_type": "code",
   "execution_count": 43,
   "metadata": {},
   "outputs": [
    {
     "name": "stdout",
     "output_type": "stream",
     "text": [
      "[1. 1. 1. 1. 1. 1. 1. 1. 1. 1.]\n"
     ]
    },
    {
     "data": {
      "text/plain": [
       "1.0"
      ]
     },
     "execution_count": 43,
     "metadata": {},
     "output_type": "execute_result"
    }
   ],
   "source": [
    "# accuracy on validation data # 10-fold CV\n",
    "cv_accuracy = cvs(model,X_test,y_test,cv=10,scoring='accuracy')\n",
    "print(cv_accuracy)\n",
    "cv_accuracy.mean()"
   ]
  },
  {
   "cell_type": "code",
   "execution_count": 36,
   "metadata": {},
   "outputs": [
    {
     "data": {
      "text/plain": [
       "1.0"
      ]
     },
     "execution_count": 36,
     "metadata": {},
     "output_type": "execute_result"
    }
   ],
   "source": [
    "# accuracy on test data\n",
    "test_accuracy = model.score(X_test,y_test)\n",
    "test_accuracy"
   ]
  },
  {
   "cell_type": "markdown",
   "metadata": {},
   "source": [
    "### Predictions and Evaluations\n",
    "\n",
    "Now let's predict using the trained model."
   ]
  },
  {
   "cell_type": "code",
   "execution_count": 39,
   "metadata": {},
   "outputs": [
    {
     "data": {
      "text/plain": [
       "array([0, 1, 1, 0, 1, 0, 1, 0, 1, 1, 1, 0, 0, 0, 1, 0, 0, 1, 1, 1, 1, 0,\n",
       "       0, 1, 0, 0, 0, 0, 0, 1, 0, 1, 0, 0, 0, 0, 1, 1, 1, 0, 1, 0, 0, 1,\n",
       "       1, 0, 0, 0, 0, 0, 1, 0, 1, 0, 0, 1, 1, 1, 0, 0, 0, 0, 0, 1, 0, 0],\n",
       "      dtype=int64)"
      ]
     },
     "execution_count": 39,
     "metadata": {},
     "output_type": "execute_result"
    }
   ],
   "source": [
    "y_pred = model.predict(X_test)\n",
    "y_pred"
   ]
  },
  {
   "cell_type": "code",
   "execution_count": 44,
   "metadata": {},
   "outputs": [
    {
     "data": {
      "text/plain": [
       "1.0"
      ]
     },
     "execution_count": 44,
     "metadata": {},
     "output_type": "execute_result"
    }
   ],
   "source": [
    "accuracy_score(y_test, y_pred)"
   ]
  },
  {
   "cell_type": "code",
   "execution_count": 45,
   "metadata": {},
   "outputs": [],
   "source": [
    "from sklearn.metrics import classification_report,confusion_matrix, plot_confusion_matrix, plot_roc_curve"
   ]
  },
  {
   "cell_type": "code",
   "execution_count": 46,
   "metadata": {},
   "outputs": [
    {
     "name": "stdout",
     "output_type": "stream",
     "text": [
      "[[36  0]\n",
      " [ 0 30]]\n"
     ]
    }
   ],
   "source": [
    "print(confusion_matrix(y_test,y_pred))"
   ]
  },
  {
   "cell_type": "code",
   "execution_count": 47,
   "metadata": {},
   "outputs": [
    {
     "data": {
      "text/plain": [
       "<sklearn.metrics._plot.confusion_matrix.ConfusionMatrixDisplay at 0xc25e4c0>"
      ]
     },
     "execution_count": 47,
     "metadata": {},
     "output_type": "execute_result"
    },
    {
     "data": {
      "image/png": "[encoded data removed]",
      "text/plain": [
       "<Figure size 432x288 with 2 Axes>"
      ]
     },
     "metadata": {
      "needs_background": "light"
     },
     "output_type": "display_data"
    }
   ],
   "source": [
    "plot_confusion_matrix(model,X_test,y_test)"
   ]
  },
  {
   "cell_type": "code",
   "execution_count": 52,
   "metadata": {},
   "outputs": [
    {
     "name": "stdout",
     "output_type": "stream",
     "text": [
      "              precision    recall  f1-score   support\n",
      "\n",
      "           0       1.00      1.00      1.00        36\n",
      "           1       1.00      1.00      1.00        30\n",
      "\n",
      "    accuracy                           1.00        66\n",
      "   macro avg       1.00      1.00      1.00        66\n",
      "weighted avg       1.00      1.00      1.00        66\n",
      "\n"
     ]
    }
   ],
   "source": [
    "print(classification_report(y_test,y_pred))"
   ]
  },
  {
   "cell_type": "code",
   "execution_count": 53,
   "metadata": {},
   "outputs": [
    {
     "data": {
      "text/plain": [
       "<sklearn.metrics._plot.roc_curve.RocCurveDisplay at 0xc3189a0>"
      ]
     },
     "execution_count": 53,
     "metadata": {},
     "output_type": "execute_result"
    },
    {
     "data": {
      "image/png": "[encoded data removed]",
      "text/plain": [
       "<Figure size 432x288 with 1 Axes>"
      ]
     },
     "metadata": {
      "needs_background": "light"
     },
     "output_type": "display_data"
    }
   ],
   "source": [
    "plot_roc_curve(model,X_test,y_test)"
   ]
  },
  {
   "cell_type": "markdown",
   "metadata": {},
   "source": [
    "### hyperparamter optimization"
   ]
  },
  {
   "cell_type": "code",
   "execution_count": null,
   "metadata": {},
   "outputs": [],
   "source": [
    "param_grid = {'C': [0.1,1, 10, 100, 1000], 'gamma': [1,0.1,0.01,0.001,0.0001], 'kernel': ['rbf']} #dictionary, C, gamma & kernel are hyperparameters"
   ]
  },
  {
   "cell_type": "code",
   "execution_count": null,
   "metadata": {},
   "outputs": [],
   "source": [
    "from sklearn.model_selection import GridSearchCV #gridsearchcv is a meta estimator"
   ]
  },
  {
   "cell_type": "markdown",
   "metadata": {},
   "source": [
    "One of the great things about GridSearchCV is that it is a meta-estimator. It takes an estimator like SVC, and creates a new estimator, that behaves exactly the same - in this case, like a classifier. You should add refit=True and choose verbose to whatever number you want, higher the number, the more verbose (verbose just means the text output describing the process)."
   ]
  },
  {
   "cell_type": "code",
   "execution_count": null,
   "metadata": {},
   "outputs": [],
   "source": [
    "grid = GridSearchCV(SVC(),param_grid,refit=True,verbose=3) #verbosity level of 3 # it could be 2"
   ]
  },
  {
   "cell_type": "markdown",
   "metadata": {},
   "source": [
    "What fit does is a bit more involved then usual. First, it runs the same loop with cross-validation, to find the best parameter combination. Once it has the best combination, it runs fit again on all data passed to fit (without cross-validation), to built a single new model using the best parameter setting."
   ]
  },
  {
   "cell_type": "code",
   "execution_count": null,
   "metadata": {},
   "outputs": [],
   "source": [
    "# May take awhile!\n",
    "grid.fit(X_train,y_train)"
   ]
  },
  {
   "cell_type": "markdown",
   "metadata": {},
   "source": [
    "You can inspect the best parameters found by GridSearchCV in the best_params_ attribute, and the best estimator in the best\\_estimator_ attribute:"
   ]
  },
  {
   "cell_type": "code",
   "execution_count": null,
   "metadata": {},
   "outputs": [],
   "source": [
    "grid.best_params_"
   ]
  },
  {
   "cell_type": "code",
   "execution_count": null,
   "metadata": {},
   "outputs": [],
   "source": [
    "grid.best_estimator_"
   ]
  },
  {
   "cell_type": "markdown",
   "metadata": {},
   "source": [
    "Then you can re-run predictions on this grid object just like you would with a normal model."
   ]
  },
  {
   "cell_type": "code",
   "execution_count": null,
   "metadata": {},
   "outputs": [],
   "source": [
    "grid_predictions = grid.predict(X_test)"
   ]
  },
  {
   "cell_type": "code",
   "execution_count": null,
   "metadata": {},
   "outputs": [],
   "source": [
    "print(confusion_matrix(y_test,grid_predictions))"
   ]
  },
  {
   "cell_type": "code",
   "execution_count": null,
   "metadata": {},
   "outputs": [],
   "source": [
    "print(classification_report(y_test,grid_predictions))"
   ]
  },
  {
   "cell_type": "markdown",
   "metadata": {},
   "source": [
    "## Model 2: XGBoost"
   ]
  },
  {
   "cell_type": "code",
   "execution_count": 19,
   "metadata": {},
   "outputs": [
    {
     "name": "stdout",
     "output_type": "stream",
     "text": [
      "Collecting xgboost\n",
      "  Downloading xgboost-1.5.0-py3-none-win_amd64.whl (106.6 MB)\n",
      "Requirement already satisfied: scipy in c:\\users\\user\\anaconda3\\lib\\site-packages (from xgboost) (1.6.2)\n",
      "Requirement already satisfied: numpy in c:\\users\\user\\anaconda3\\lib\\site-packages (from xgboost) (1.20.1)\n",
      "Installing collected packages: xgboost\n",
      "Successfully installed xgboost-1.5.0\n",
      "Note: you may need to restart the kernel to use updated packages.\n"
     ]
    }
   ],
   "source": [
    "#pip install xgboost\n",
    "# already installed"
   ]
  },
  {
   "cell_type": "code",
   "execution_count": 17,
   "metadata": {},
   "outputs": [],
   "source": [
    "from xgboost import XGBClassifier\n",
    "XGB_model = XGBClassifier(objective='binary:logistic',eval_metric=['logloss'], use_label_encoder=False)\n",
    "#model = XGBClassifier()\n",
    "XGB_model.fit(X_train, y_train)\n",
    "pred = XGB_model.predict(X_test)"
   ]
  },
  {
   "cell_type": "code",
   "execution_count": 19,
   "metadata": {},
   "outputs": [
    {
     "data": {
      "text/plain": [
       "1.0"
      ]
     },
     "execution_count": 19,
     "metadata": {},
     "output_type": "execute_result"
    }
   ],
   "source": [
    "from sklearn.metrics import accuracy_score\n",
    "accuracy_score(y_test,pred)"
   ]
  },
  {
   "cell_type": "code",
   "execution_count": null,
   "metadata": {},
   "outputs": [],
   "source": [
    "from sklearn.metrics import classification_report\n",
    "print(classification_report(y_test, pred))"
   ]
  },
  {
   "cell_type": "markdown",
   "metadata": {},
   "source": [
    "## Model 3: Gaussian NB"
   ]
  },
  {
   "cell_type": "code",
   "execution_count": 21,
   "metadata": {},
   "outputs": [
    {
     "data": {
      "text/plain": [
       "1.0"
      ]
     },
     "execution_count": 21,
     "metadata": {},
     "output_type": "execute_result"
    }
   ],
   "source": [
    "from sklearn.naive_bayes import GaussianNB as GNB\n",
    "nb = GNB()\n",
    "nb_model = nb.fit(X_train,y_train)\n",
    "proba = nb_model.predict_proba(X_test)\n",
    "y_pred = nb_model.predict(X_test)\n",
    "\n",
    "cvs(nb_model,X_test,y_test,cv=10).mean()"
   ]
  },
  {
   "cell_type": "code",
   "execution_count": 25,
   "metadata": {},
   "outputs": [
    {
     "name": "stdout",
     "output_type": "stream",
     "text": [
      "1.0\n"
     ]
    }
   ],
   "source": [
    "from sklearn.metrics import accuracy_score\n",
    "model_score = nb.score(X_train, y_train)                      ## Accuracy\n",
    "print(model_score)"
   ]
  },
  {
   "cell_type": "code",
   "execution_count": 26,
   "metadata": {},
   "outputs": [
    {
     "data": {
      "text/plain": [
       "1.0"
      ]
     },
     "execution_count": 26,
     "metadata": {},
     "output_type": "execute_result"
    }
   ],
   "source": [
    "nb.score(X_train, y_train)"
   ]
  },
  {
   "cell_type": "code",
   "execution_count": 31,
   "metadata": {},
   "outputs": [
    {
     "name": "stdout",
     "output_type": "stream",
     "text": [
      "1.0\n"
     ]
    }
   ],
   "source": [
    "#Performance Matrix on test data set\n",
    "from sklearn.metrics import accuracy_score\n",
    "y_test_predict = nb.predict(X_test)\n",
    "model_score = nb.score(X_test, y_test)                           ## Accuracy\n",
    "print(model_score)"
   ]
  },
  {
   "cell_type": "code",
   "execution_count": 33,
   "metadata": {},
   "outputs": [
    {
     "data": {
      "text/plain": [
       "1.0"
      ]
     },
     "execution_count": 33,
     "metadata": {},
     "output_type": "execute_result"
    }
   ],
   "source": [
    "nb.score(X_test, y_test)"
   ]
  },
  {
   "cell_type": "markdown",
   "metadata": {},
   "source": [
    "## Model 4: KNN"
   ]
  },
  {
   "cell_type": "code",
   "execution_count": 40,
   "metadata": {},
   "outputs": [
    {
     "data": {
      "text/plain": [
       "KNeighborsClassifier()"
      ]
     },
     "execution_count": 40,
     "metadata": {},
     "output_type": "execute_result"
    }
   ],
   "source": [
    "from sklearn.neighbors import KNeighborsClassifier\n",
    "\n",
    "KNN_model=KNeighborsClassifier()\n",
    "KNN_model.fit(X_train,y_train)"
   ]
  },
  {
   "cell_type": "code",
   "execution_count": 41,
   "metadata": {},
   "outputs": [],
   "source": [
    "from sklearn import metrics\n",
    "from sklearn import preprocessing\n",
    "from sklearn.metrics import accuracy_score"
   ]
  },
  {
   "cell_type": "code",
   "execution_count": 42,
   "metadata": {},
   "outputs": [
    {
     "name": "stdout",
     "output_type": "stream",
     "text": [
      "0.8954248366013072\n",
      "[[74 15]\n",
      " [ 1 63]]\n",
      "              precision    recall  f1-score   support\n",
      "\n",
      "           0       0.99      0.83      0.90        89\n",
      "           1       0.81      0.98      0.89        64\n",
      "\n",
      "    accuracy                           0.90       153\n",
      "   macro avg       0.90      0.91      0.89       153\n",
      "weighted avg       0.91      0.90      0.90       153\n",
      "\n"
     ]
    }
   ],
   "source": [
    "y_train_predict = KNN_model.predict(X_train)\n",
    "model_score = KNN_model.score(X_train, y_train)\n",
    "print(model_score)\n",
    "print(metrics.confusion_matrix(y_train, y_train_predict))\n",
    "print(metrics.classification_report(y_train, y_train_predict))"
   ]
  },
  {
   "cell_type": "code",
   "execution_count": 43,
   "metadata": {},
   "outputs": [
    {
     "name": "stdout",
     "output_type": "stream",
     "text": [
      "0.8484848484848485\n",
      "[[29 10]\n",
      " [ 0 27]]\n",
      "              precision    recall  f1-score   support\n",
      "\n",
      "           0       1.00      0.74      0.85        39\n",
      "           1       0.73      1.00      0.84        27\n",
      "\n",
      "    accuracy                           0.85        66\n",
      "   macro avg       0.86      0.87      0.85        66\n",
      "weighted avg       0.89      0.85      0.85        66\n",
      "\n"
     ]
    }
   ],
   "source": [
    "y_test_predict = KNN_model.predict(X_test)\n",
    "model_score = KNN_model.score(X_test, y_test)\n",
    "print(model_score)\n",
    "print(metrics.confusion_matrix(y_test, y_test_predict))\n",
    "print(metrics.classification_report(y_test, y_test_predict))"
   ]
  },
  {
   "cell_type": "code",
   "execution_count": 44,
   "metadata": {},
   "outputs": [
    {
     "data": {
      "text/plain": [
       "KNeighborsClassifier(n_neighbors=7)"
      ]
     },
     "execution_count": 44,
     "metadata": {},
     "output_type": "execute_result"
    }
   ],
   "source": [
    "from sklearn.neighbors import KNeighborsClassifier\n",
    "\n",
    "KNN_model=KNeighborsClassifier(n_neighbors=7)\n",
    "KNN_model.fit(X_train,y_train)"
   ]
  },
  {
   "cell_type": "code",
   "execution_count": 45,
   "metadata": {},
   "outputs": [
    {
     "name": "stdout",
     "output_type": "stream",
     "text": [
      "0.8823529411764706\n",
      "[[72 17]\n",
      " [ 1 63]]\n",
      "              precision    recall  f1-score   support\n",
      "\n",
      "           0       0.99      0.81      0.89        89\n",
      "           1       0.79      0.98      0.87        64\n",
      "\n",
      "    accuracy                           0.88       153\n",
      "   macro avg       0.89      0.90      0.88       153\n",
      "weighted avg       0.90      0.88      0.88       153\n",
      "\n"
     ]
    }
   ],
   "source": [
    "y_train_predict = KNN_model.predict(X_train)\n",
    "model_score = KNN_model.score(X_train, y_train)\n",
    "print(model_score)\n",
    "print(metrics.confusion_matrix(y_train, y_train_predict))\n",
    "print(metrics.classification_report(y_train, y_train_predict))"
   ]
  },
  {
   "cell_type": "code",
   "execution_count": 46,
   "metadata": {},
   "outputs": [
    {
     "name": "stdout",
     "output_type": "stream",
     "text": [
      "0.7878787878787878\n",
      "[[25 14]\n",
      " [ 0 27]]\n",
      "              precision    recall  f1-score   support\n",
      "\n",
      "           0       1.00      0.64      0.78        39\n",
      "           1       0.66      1.00      0.79        27\n",
      "\n",
      "    accuracy                           0.79        66\n",
      "   macro avg       0.83      0.82      0.79        66\n",
      "weighted avg       0.86      0.79      0.79        66\n",
      "\n"
     ]
    }
   ],
   "source": [
    "y_test_predict = KNN_model.predict(X_test)\n",
    "model_score = KNN_model.score(X_test, y_test)\n",
    "print(model_score)\n",
    "print(metrics.confusion_matrix(y_test, y_test_predict))\n",
    "print(metrics.classification_report(y_test, y_test_predict))"
   ]
  },
  {
   "cell_type": "code",
   "execution_count": 47,
   "metadata": {},
   "outputs": [
    {
     "data": {
      "text/plain": [
       "[0.19696969696969702,\n",
       " 0.16666666666666663,\n",
       " 0.1515151515151515,\n",
       " 0.21212121212121215,\n",
       " 0.21212121212121215,\n",
       " 0.2272727272727273,\n",
       " 0.25757575757575757,\n",
       " 0.25757575757575757,\n",
       " 0.2727272727272727,\n",
       " 0.28787878787878785]"
      ]
     },
     "execution_count": 47,
     "metadata": {},
     "output_type": "execute_result"
    }
   ],
   "source": [
    "ac_scores = []\n",
    "\n",
    "# perform accuracy metrics for values from 1,3,5....19\n",
    "for k in range(1,20,2):\n",
    "    knn = KNeighborsClassifier(n_neighbors=k)\n",
    "    knn.fit(X_train, y_train)\n",
    "    # evaluate test accuracy\n",
    "    scores = knn.score(X_test, y_test)\n",
    "    ac_scores.append(scores)\n",
    "\n",
    "# changing to misclassification error\n",
    "MCE = [1 - x for x in ac_scores]\n",
    "MCE"
   ]
  },
  {
   "cell_type": "code",
   "execution_count": 48,
   "metadata": {},
   "outputs": [
    {
     "data": {
      "image/png": "[encoded data removed]",
      "text/plain": [
       "<Figure size 432x288 with 1 Axes>"
      ]
     },
     "metadata": {
      "needs_background": "light"
     },
     "output_type": "display_data"
    }
   ],
   "source": [
    "import matplotlib.pyplot as plt\n",
    "# plot misclassification error vs k\n",
    "plt.plot(range(1,20,2), MCE)\n",
    "plt.xlabel('Number of Neighbors K')\n",
    "plt.ylabel('Misclassification Error')\n",
    "plt.show()"
   ]
  },
  {
   "cell_type": "markdown",
   "metadata": {},
   "source": [
    "For K = 3 it is giving the best test accuracy lets check train and test for K=3 with other evaluation metrics"
   ]
  },
  {
   "cell_type": "code",
   "execution_count": 49,
   "metadata": {},
   "outputs": [
    {
     "data": {
      "text/plain": [
       "KNeighborsClassifier(n_neighbors=3)"
      ]
     },
     "execution_count": 49,
     "metadata": {},
     "output_type": "execute_result"
    }
   ],
   "source": [
    "from sklearn.neighbors import KNeighborsClassifier\n",
    "\n",
    "KNN_model=KNeighborsClassifier(n_neighbors=3)\n",
    "KNN_model.fit(X_train,y_train)"
   ]
  },
  {
   "cell_type": "code",
   "execution_count": 50,
   "metadata": {},
   "outputs": [
    {
     "name": "stdout",
     "output_type": "stream",
     "text": [
      "0.8954248366013072\n",
      "[[75 14]\n",
      " [ 2 62]]\n",
      "              precision    recall  f1-score   support\n",
      "\n",
      "           0       0.97      0.84      0.90        89\n",
      "           1       0.82      0.97      0.89        64\n",
      "\n",
      "    accuracy                           0.90       153\n",
      "   macro avg       0.89      0.91      0.89       153\n",
      "weighted avg       0.91      0.90      0.90       153\n",
      "\n"
     ]
    }
   ],
   "source": [
    "y_train_predict = KNN_model.predict(X_train)\n",
    "model_score = KNN_model.score(X_train, y_train)\n",
    "print(model_score)\n",
    "print(metrics.confusion_matrix(y_train, y_train_predict))\n",
    "print(metrics.classification_report(y_train, y_train_predict))"
   ]
  },
  {
   "cell_type": "code",
   "execution_count": 51,
   "metadata": {},
   "outputs": [
    {
     "name": "stdout",
     "output_type": "stream",
     "text": [
      "0.8333333333333334\n",
      "[[29 10]\n",
      " [ 1 26]]\n",
      "              precision    recall  f1-score   support\n",
      "\n",
      "           0       0.97      0.74      0.84        39\n",
      "           1       0.72      0.96      0.83        27\n",
      "\n",
      "    accuracy                           0.83        66\n",
      "   macro avg       0.84      0.85      0.83        66\n",
      "weighted avg       0.87      0.83      0.83        66\n",
      "\n"
     ]
    }
   ],
   "source": [
    "y_test_predict = KNN_model.predict(X_test)\n",
    "model_score = KNN_model.score(X_test, y_test)\n",
    "print(model_score)\n",
    "print(metrics.confusion_matrix(y_test, y_test_predict))\n",
    "print(metrics.classification_report(y_test, y_test_predict))"
   ]
  },
  {
   "cell_type": "code",
   "execution_count": 52,
   "metadata": {},
   "outputs": [
    {
     "data": {
      "text/plain": [
       "0.17000000000000004"
      ]
     },
     "execution_count": 52,
     "metadata": {},
     "output_type": "execute_result"
    }
   ],
   "source": [
    "0.745-0.575"
   ]
  },
  {
   "cell_type": "code",
   "execution_count": null,
   "metadata": {},
   "outputs": [],
   "source": [
    "## As the difference between train and test accuracies is 17 % which is more than 10%(Industry standard).So, we will look for the next best value of K. which is K=7"
   ]
  },
  {
   "cell_type": "code",
   "execution_count": 53,
   "metadata": {},
   "outputs": [
    {
     "data": {
      "text/plain": [
       "KNeighborsClassifier(n_neighbors=7)"
      ]
     },
     "execution_count": 53,
     "metadata": {},
     "output_type": "execute_result"
    }
   ],
   "source": [
    "from sklearn.neighbors import KNeighborsClassifier\n",
    "\n",
    "KNN_model=KNeighborsClassifier(n_neighbors=7)\n",
    "KNN_model.fit(X_train,y_train)"
   ]
  },
  {
   "cell_type": "code",
   "execution_count": 54,
   "metadata": {},
   "outputs": [
    {
     "name": "stdout",
     "output_type": "stream",
     "text": [
      "0.8823529411764706\n",
      "[[72 17]\n",
      " [ 1 63]]\n",
      "              precision    recall  f1-score   support\n",
      "\n",
      "           0       0.99      0.81      0.89        89\n",
      "           1       0.79      0.98      0.87        64\n",
      "\n",
      "    accuracy                           0.88       153\n",
      "   macro avg       0.89      0.90      0.88       153\n",
      "weighted avg       0.90      0.88      0.88       153\n",
      "\n"
     ]
    }
   ],
   "source": [
    "y_train_predict = KNN_model.predict(X_train)\n",
    "model_score = KNN_model.score(X_train, y_train)\n",
    "print(model_score)\n",
    "print(metrics.confusion_matrix(y_train, y_train_predict))\n",
    "print(metrics.classification_report(y_train, y_train_predict))"
   ]
  },
  {
   "cell_type": "code",
   "execution_count": 55,
   "metadata": {},
   "outputs": [
    {
     "name": "stdout",
     "output_type": "stream",
     "text": [
      "0.7878787878787878\n",
      "[[25 14]\n",
      " [ 0 27]]\n",
      "              precision    recall  f1-score   support\n",
      "\n",
      "           0       1.00      0.64      0.78        39\n",
      "           1       0.66      1.00      0.79        27\n",
      "\n",
      "    accuracy                           0.79        66\n",
      "   macro avg       0.83      0.82      0.79        66\n",
      "weighted avg       0.86      0.79      0.79        66\n",
      "\n"
     ]
    }
   ],
   "source": [
    "y_test_predict = KNN_model.predict(X_test)\n",
    "model_score = KNN_model.score(X_test, y_test)\n",
    "print(model_score)\n",
    "print(metrics.confusion_matrix(y_test, y_test_predict))\n",
    "print(metrics.classification_report(y_test, y_test_predict))"
   ]
  },
  {
   "cell_type": "code",
   "execution_count": 57,
   "metadata": {},
   "outputs": [
    {
     "data": {
      "text/plain": [
       "0.09499999999999997"
      ]
     },
     "execution_count": 57,
     "metadata": {},
     "output_type": "execute_result"
    }
   ],
   "source": [
    "0.882-0.787 "
   ]
  },
  {
   "cell_type": "code",
   "execution_count": null,
   "metadata": {},
   "outputs": [],
   "source": [
    "# As the difference between train and test accuracies is less than 10%, there is no overfitting"
   ]
  },
  {
   "cell_type": "markdown",
   "metadata": {},
   "source": [
    "## Conclusion: \n",
    "## SVC: Accuracy: 100%\n",
    "## XGBoost: Accuracy: 100%\n",
    "## Gaussian NB: Accuracy: 100%\n",
    "## KNN: Accuracy: 78.7%"
   ]
  }
 ],
 "metadata": {
  "kernelspec": {
   "display_name": "Python 3",
   "language": "python",
   "name": "python3"
  },
  "language_info": {
   "codemirror_mode": {
    "name": "ipython",
    "version": 3
   },
   "file_extension": ".py",
   "mimetype": "text/x-python",
   "name": "python",
   "nbconvert_exporter": "python",
   "pygments_lexer": "ipython3",
   "version": "3.8.8"
  }
 },
 "nbformat": 4,
 "nbformat_minor": 1
}
